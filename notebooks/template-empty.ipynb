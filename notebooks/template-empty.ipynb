{
 "cells": [
  {
   "cell_type": "markdown",
   "metadata": {
    "colab_type": "text",
    "id": "5ZEA_Qg_t7qW"
   },
   "source": [
    "## Setup"
   ]
  },
  {
   "cell_type": "markdown",
   "metadata": {
    "colab_type": "text",
    "id": "GZqKNx2amGNI"
   },
   "source": [
    "### Package Import"
   ]
  },
  {
   "cell_type": "code",
   "execution_count": null,
   "metadata": {
    "colab": {},
    "colab_type": "code",
    "id": "93Wu_6CEtY8b"
   },
   "outputs": [],
   "source": [
    "# Install external packages for Google Colab\n",
    "if 'google.colab' in str(get_ipython()):\n",
    "    !pip install rasterfairy-py3 spotipy umap-learn -q"
   ]
  },
  {
   "cell_type": "code",
   "execution_count": null,
   "metadata": {
    "colab": {},
    "colab_type": "code",
    "id": "7jdu5_hKtpPU"
   },
   "outputs": [],
   "source": [
    "# Import packages\n",
    "from getpass import getpass        # secure text entry\n",
    "from io import BytesIO             # reading binary data\n",
    "from IPython.display \\\n",
    "  import clear_output              # clearing cell output\n",
    "import numpy as np                 # mathematics\n",
    "import os                          # setting environment variables\n",
    "import pandas as pd                # storing audio features as dataframe\n",
    "# TODO: import the PIL module from the Image package\n",
    "\"___________________\"              # image export\n",
    "import plotly.express as px        # basic interactive visualisation\n",
    "import plotly.graph_objects as go  # advanced plotting functionality\n",
    "import rasterfairy                 # rasterfying point clouds\n",
    "import requests                    # web requests\n",
    "from sklearn.preprocessing \\\n",
    "  import StandardScaler            # feature standardisation\n",
    "# TODO: import the spotipy package\n",
    "\"____________\"                     # Python interface to Spotify API\n",
    "import umap                        # dimensionality reduction"
   ]
  },
  {
   "cell_type": "markdown",
   "metadata": {
    "colab_type": "text",
    "id": "orSGe_Dr4FUC"
   },
   "source": [
    "### Parameters"
   ]
  },
  {
   "cell_type": "code",
   "execution_count": null,
   "metadata": {
    "colab": {},
    "colab_type": "code",
    "id": "GycV5BA_3K6o"
   },
   "outputs": [],
   "source": [
    "# Parameters\n",
    "# NB: Use 'vr1q8on6ji60ceo0kregujkkx' for playlists from WDSS\n",
    "# TODO: supply a username\n",
    "USERNAME = '_________________________'  # user to extract public playlists from\n",
    "RESOLUTION = 2  # 0 (extreme); 1 (high); 2 (low)\n",
    "ORIENTATION = 'landscape'  # landscape; portrait\n",
    "MIN_RATIO = 0.5  # minimum ratio between shortest and longest dimension"
   ]
  },
  {
   "cell_type": "markdown",
   "metadata": {
    "colab_type": "text",
    "id": "Q6AXIz03mNsP"
   },
   "source": [
    "### Helper Functions"
   ]
  },
  {
   "cell_type": "code",
   "execution_count": null,
   "metadata": {
    "colab": {},
    "colab_type": "code",
    "id": "-AXICFltkE2D"
   },
   "outputs": [],
   "source": [
    "# Define helper functions\n",
    "def depaginate(first_page):\n",
    "  \"\"\"\n",
    "  Flatten the paginated response from the Spotify API.\n",
    "  \n",
    "  The Spotify API returns responses over a certain size using pagination (like\n",
    "  how Google has multiple page of results). This function takes the first page\n",
    "  of a response and uses this to run through all other pages and return the\n",
    "  page items in a flattened format.\n",
    "  \"\"\"\n",
    "  page = first_page\n",
    "  while page:\n",
    "    for item in page['items']:\n",
    "      yield item\n",
    "    page = sp.next(page)\n",
    "\n",
    "def resolution_map(resolution):\n",
    "  \"\"\"Return the pixel value corresponding to different resolution levels.\"\"\"\n",
    "  return [600, 300, 64][resolution]\n",
    "\n",
    "def mel_to_harm(key):\n",
    "  \"\"\"Convert absolute keys to positions relative to the circle of fifths.\"\"\"\n",
    "  return (key * 7) % 12\n",
    "\n",
    "def create_hover_text(track_df, features=None):\n",
    "  \"\"\"\n",
    "  Create hover text for plots.\n",
    "  \n",
    "  Omit the second argument to leave out extra hover text for audio features.\n",
    "  \"\"\"\n",
    "  text = (\n",
    "      \"Name: \" + track_df['name'] + \"<br>\" +\n",
    "      \"Artist: \" + track_df['artist'] + \"<br>\" +\n",
    "      \"Album: \" + track_df['album'] + \"<br><extra>\"\n",
    "  )\n",
    "  if features:\n",
    "    for f in features:\n",
    "      text = text + f + \": \" + track_df[f].apply(str) + \"<br>\"\n",
    "  return text + \"</extra>\"\n",
    "\n",
    "def find_valid_sample_count(track_df, min_ratio):\n",
    "  \"\"\"\n",
    "  Find a sample count that can form a rectangle satisfying a minimum ratio.\n",
    "\n",
    "  For difficult numbers of observations (e.g. a prime), only long rectangles\n",
    "  can be formed in the final visualisation. We therefore keep decreasing the\n",
    "  number of points until we have form a rectangle that satisfies a minimum\n",
    "  ratio between side lengths.\n",
    "  \"\"\"\n",
    "  n = len(track_df)\n",
    "  found_solution = False\n",
    "  while not found_solution:\n",
    "    i, j = rasterfairy.getRectArrangements(n)[0]\n",
    "    if i / j >= MIN_RATIO:\n",
    "      found_solution = True\n",
    "    else:\n",
    "      n -= 1\n",
    "  return n"
   ]
  },
  {
   "cell_type": "markdown",
   "metadata": {
    "colab_type": "text",
    "id": "Mo4LnOoKmCln"
   },
   "source": [
    "### API Connection"
   ]
  },
  {
   "cell_type": "code",
   "execution_count": null,
   "metadata": {
    "colab": {},
    "colab_type": "code",
    "id": "lxWWilRpvNLS"
   },
   "outputs": [],
   "source": [
    "# Authentication environment variables\n",
    "overwrite_existing = False  # set to True to overwrite existing values\n",
    "if overwrite_existing or 'SPOTIPY_CLIENT_ID' not in os.environ \\\n",
    "    or 'SPOTIPY_CLIENT_SECRET' not in os.environ:\n",
    "  os.environ['SPOTIPY_CLIENT_ID'] = getpass(\"What is your client ID?\\n\")\n",
    "  # TODO: ask for the client secret and assign it to the\n",
    "  # `SPOTIPY_CLIENT_SECRET` environment variable (base this on the line above)\n",
    "  \"____________________________________________________________________________\""
   ]
  },
  {
   "cell_type": "code",
   "execution_count": null,
   "metadata": {
    "colab": {},
    "colab_type": "code",
    "id": "q85mdkVpxb-i"
   },
   "outputs": [],
   "source": [
    "# Initialise client\n",
    "auth_manager = spotipy.SpotifyClientCredentials()\n",
    "sp = spotipy.Spotify(auth_manager=auth_manager)"
   ]
  },
  {
   "cell_type": "markdown",
   "metadata": {
    "colab_type": "text",
    "id": "0-l5Dn6z1ot7"
   },
   "source": [
    "## Data Scraping"
   ]
  },
  {
   "cell_type": "markdown",
   "metadata": {
    "colab_type": "text",
    "id": "mh9OfbHa3DgN"
   },
   "source": [
    "### Collect Playlists"
   ]
  },
  {
   "cell_type": "code",
   "execution_count": null,
   "metadata": {
    "colab": {},
    "colab_type": "code",
    "id": "5dUuH50K3qd3"
   },
   "outputs": [],
   "source": [
    "# Create list to store key playlist information\n",
    "playlist_info = []\n",
    "\n",
    "# Loop through all playlists\n",
    "for playlist in depaginate(sp.user_playlists(USERNAME)):\n",
    "  # Add playlist information to list\n",
    "  playlist_info.append({\n",
    "      'name': playlist['name'],\n",
    "      'size': playlist['tracks']['total'],\n",
    "      # TODO: add the `id` field to the playlist information\n",
    "      \"___________________\",\n",
    "  })"
   ]
  },
  {
   "cell_type": "code",
   "execution_count": null,
   "metadata": {
    "colab": {
     "base_uri": "https://localhost:8080/",
     "height": 51
    },
    "colab_type": "code",
    "id": "6i8lDlzX6aIc",
    "outputId": "9937d51a-3bb9-4c8a-a4dc-15f40e581518"
   },
   "outputs": [],
   "source": [
    "# Display playlist choices\n",
    "max_digits = len(str(len(playlist_info)))\n",
    "for i, info in enumerate(playlist_info, 1):\n",
    "  print(f\"({str(i).zfill(max_digits)}) {info['name']} [{info['size']} tracks]\")"
   ]
  },
  {
   "cell_type": "markdown",
   "metadata": {
    "colab_type": "text",
    "id": "q_Ozk9Wrz5W9"
   },
   "source": [
    "### Playlist Selection"
   ]
  },
  {
   "cell_type": "code",
   "execution_count": null,
   "metadata": {
    "colab": {
     "base_uri": "https://localhost:8080/",
     "height": 85
    },
    "colab_type": "code",
    "id": "-tnsEMacyOS1",
    "outputId": "e10d8532-59fa-4c34-bdea-8bca8b64b48b"
   },
   "outputs": [],
   "source": [
    "# Get user to select a playlist\n",
    "valid = False  # placeholder to start off loop\n",
    "\n",
    "while not valid:\n",
    "  # Ask user for input\n",
    "  choice_idx = input(\"Select a playlist index from the list above:\\n\")\n",
    "  # Check if the input was valid\n",
    "  valid = choice_idx.isnumeric() and 0 < int(choice_idx) <= len(playlist_info)\n",
    "  if not valid:\n",
    "    clear_output(wait=True)\n",
    "    print(f\"Selection must be an integer between 1 and {len(playlist_info)}\")\n",
    "\n",
    "# Python returns input as text so convert to an integer\n",
    "choice_idx = int(choice_idx)\n",
    "print(f\"\\nYou selected '{playlist_info[choice_idx-1]['name']}'\")"
   ]
  },
  {
   "cell_type": "markdown",
   "metadata": {
    "colab_type": "text",
    "id": "LA1Nd0UM_B3Z"
   },
   "source": [
    "### Collect Tracks Details"
   ]
  },
  {
   "cell_type": "code",
   "execution_count": null,
   "metadata": {
    "colab": {},
    "colab_type": "code",
    "id": "UvyeUc0o_NxH"
   },
   "outputs": [],
   "source": [
    "# Get the ID of the choosen playlist\n",
    "choice_id = playlist_info[choice_idx-1]['id']\n",
    "# Create list to store key playlist information\n",
    "# TODO: create an empty list called `track_info` (see Collect Playlists)\n",
    "\"_____________\"\n",
    "\n",
    "# Loop through all playlist items\n",
    "# TODO: call the `sp.playlist_items(...)` command on the choosen id and\n",
    "# loop through the depaginated results (again, see Collect Playlists)\n",
    "for item in \"______________________________________\":\n",
    "  # Extract track information, ignoring item metadata (e.g. date added)\n",
    "  track = item['track']\n",
    "  track_info.append({\n",
    "      'name': track['name'],\n",
    "      'artist': track['artists'][0]['name'],\n",
    "      'album': track['album']['name'],\n",
    "      # NB: some tracks are missing artworks for all/some resolutions. If this\n",
    "      # is an issue, the simplest solution is to remove them from the playlist\n",
    "      'art_url': track['album']['images'][RESOLUTION]['url'],\n",
    "      'id': track['id'],\n",
    "  })"
   ]
  },
  {
   "cell_type": "markdown",
   "metadata": {
    "colab_type": "text",
    "id": "Gg_Rxq8GLWpY"
   },
   "source": [
    "### Collect Audio Features"
   ]
  },
  {
   "cell_type": "code",
   "execution_count": null,
   "metadata": {
    "colab": {},
    "colab_type": "code",
    "id": "FdWheYnvLVzI"
   },
   "outputs": [],
   "source": [
    "# List features to collect. See: https://spoti.fi/2Rhrtye\n",
    "# TODO: add valence and tempo to the end of the list of included features\n",
    "included = (\n",
    "    'duration_ms', 'key', 'mode', 'time_signature',\n",
    "    'acousticness', 'danceability', 'energy', 'instrumentalness', 'liveness', \n",
    "    'loudness', 'speechiness', '_______', '_____', \n",
    ")\n",
    "\n",
    "# Audio feature requests have to be performed in batches of at most 100 IDs\n",
    "for offset in range(0, len(track_info), 100):\n",
    "  # Collect all features\n",
    "  features = sp.audio_features(t['id'] for t in track_info[offset:offset+100])\n",
    "  # Filter to only include the features listed above\n",
    "  features = [{k: v for k, v in t.items() if k in included} for t in features]\n",
    "  # Add features to track info\n",
    "  for i in range(min(100, len(track_info) - offset)):\n",
    "    track_info[i + offset].update(features[i])"
   ]
  },
  {
   "cell_type": "code",
   "execution_count": null,
   "metadata": {
    "colab": {},
    "colab_type": "code",
    "id": "Z_4EwaQ_yyIy"
   },
   "outputs": [],
   "source": [
    "# Convert to dataframe\n",
    "track_df = pd.DataFrame(track_info)"
   ]
  },
  {
   "cell_type": "markdown",
   "metadata": {
    "colab_type": "text",
    "id": "mgs_ziIe1uZh"
   },
   "source": [
    "## Pre-processing"
   ]
  },
  {
   "cell_type": "markdown",
   "metadata": {
    "colab_type": "text",
    "id": "rmXcgRt2xwEV"
   },
   "source": [
    "### Sampling"
   ]
  },
  {
   "cell_type": "code",
   "execution_count": null,
   "metadata": {
    "colab": {
     "base_uri": "https://localhost:8080/",
     "height": 34
    },
    "colab_type": "code",
    "id": "wh0l4zf_xvST",
    "outputId": "8661a0db-dbd2-4262-b937-73d99c79a94b"
   },
   "outputs": [],
   "source": [
    "# Find a sample count that satisfies the minimum ratio\n",
    "# TODO: find n, the maximum valid sample count by running the\n",
    "# `find_valid_sample_count(...)` function with the two arguments `track_df`\n",
    "# and `MIN_RATIO` (separate the arguments with a comma)\n",
    "n = \"__________________________________________\"\n",
    "\n",
    "# Take random sample of chosen size\n",
    "print(f\"Randomly removing {len(track_df) - n} tracks to leave {n} remaining\")\n",
    "track_df = track_df.sample(n, random_state=1729).reset_index(drop=True)"
   ]
  },
  {
   "cell_type": "code",
   "execution_count": null,
   "metadata": {
    "colab": {},
    "colab_type": "code",
    "id": "yJDvS1r4Dsw_"
   },
   "outputs": [],
   "source": [
    "# Extract feature columns into own dataframe\n",
    "# TODO: drop the column containing the url for the cover art\n",
    "# (see Collect Track Details to find its name)\n",
    "features_df = track_df.drop(\n",
    "    ['name', 'artist', 'album', '_______', 'id'], axis=1\n",
    ")"
   ]
  },
  {
   "cell_type": "markdown",
   "metadata": {
    "colab_type": "text",
    "id": "btIWdTiCg0RC"
   },
   "source": [
    "### Feature Engineering"
   ]
  },
  {
   "cell_type": "code",
   "execution_count": null,
   "metadata": {
    "colab": {},
    "colab_type": "code",
    "id": "qsnUklg6gzVx"
   },
   "outputs": [],
   "source": [
    "# Transform key from polar coordinates using melodic distance\n",
    "features_df['key_melodic_x'] = np.cos(features_df['key'] / 6 * np.pi)\n",
    "# TODO: Create a column `key_melodic_y` in a simple way to the x version\n",
    "# but using the sine function rather than cosine\n",
    "\"___________________________________________________________________\"\n",
    "\n",
    "# Transform key from polar coordinates using harmonic distance\n",
    "features_df['key_harmonic'] = features_df['key'].apply(mel_to_harm)\n",
    "# TODO: Create `key_harmonic_x` and `key_harmonic_y` by transforming\n",
    "# `key_harmonic` in the same way that we transformed `key` above\n",
    "\"_____________________________________________________________________________\"\n",
    "\"_____________________________________________________________________________\"\n",
    "\n",
    "# Remove redundant columns\n",
    "# Drop the columns `key` and `key_harmonic` (see the previous code cell)\n",
    "features_df.drop(\"_____________________\", axis=1, inplace=True)\n",
    "\n",
    "# Handle missing keys\n",
    "features_df.iloc[:,-4:].fillna(0, inplace=True)"
   ]
  },
  {
   "cell_type": "markdown",
   "metadata": {
    "colab_type": "text",
    "id": "HrkgQb0117qD"
   },
   "source": [
    "### Standardisation"
   ]
  },
  {
   "cell_type": "code",
   "execution_count": null,
   "metadata": {
    "colab": {},
    "colab_type": "code",
    "id": "LqZiNln8OSg9"
   },
   "outputs": [],
   "source": [
    "# TODO: transform the `features_df` using a standardisation scaler\n",
    "scaled_features = StandardScaler().fit_transform(\"_________\")\n",
    "\n",
    "# Two features represent the key so weight these a factor of one fourth\n",
    "scaled_features[:,-4:] /= 4"
   ]
  },
  {
   "cell_type": "markdown",
   "metadata": {
    "colab_type": "text",
    "id": "C5OtgHsag9NL"
   },
   "source": [
    "## Dimensionality Reduction"
   ]
  },
  {
   "cell_type": "markdown",
   "metadata": {
    "colab_type": "text",
    "id": "kVTZRqHJchfW"
   },
   "source": [
    "### Embedding"
   ]
  },
  {
   "cell_type": "code",
   "execution_count": null,
   "metadata": {
    "colab": {},
    "colab_type": "code",
    "id": "fNppZx3OOp5G"
   },
   "outputs": [],
   "source": [
    "# Embedded the audio features into two dimensions\n",
    "embedding = umap.UMAP(\n",
    "    n_components=2,\n",
    "    # Embedding hyperparameters used to balance local and global structure\n",
    "    # See:\n",
    "    #   https://pair-code.github.io/understanding-umap/\n",
    "    #   https://umap-learn.readthedocs.io/en/latest/parameters.html\n",
    "    # TODO: Set initial hyperparameter values to be 10 for `n_neighbours` and\n",
    "    # 0.5 for `min_dist`\n",
    "    \"____________\",\n",
    "    \"__________\",\n",
    "    metric='euclidean',\n",
    "    # Random seed used for reproducibility\n",
    "    random_state=1729).fit_transform(scaled_features)"
   ]
  },
  {
   "cell_type": "code",
   "execution_count": null,
   "metadata": {
    "colab": {
     "base_uri": "https://localhost:8080/",
     "height": 542
    },
    "colab_type": "code",
    "id": "cg4-OjyXOy1m",
    "outputId": "f62cd92b-8910-4b59-df83-09818224f432"
   },
   "outputs": [],
   "source": [
    "# View embedding\n",
    "x = embedding[:, 0]\n",
    "# TODO: use the column with index 1 for the y variable\n",
    "\"_________________\"\n",
    "\n",
    "fig = go.Figure()\n",
    "\n",
    "fig.add_trace(go.Scatter(\n",
    "    x=x, y=y,\n",
    "    hovertemplate = '%{text}',\n",
    "    # Add `included` as a second argument to show audio features on hover\n",
    "    text=create_hover_text(track_df)\n",
    "))\n",
    "\n",
    "fig.update_traces(mode='markers')\n",
    "\n",
    "fig.show()"
   ]
  },
  {
   "cell_type": "markdown",
   "metadata": {
    "colab_type": "text",
    "id": "dssDxwFF7eG7"
   },
   "source": [
    "### Rasterfication"
   ]
  },
  {
   "cell_type": "code",
   "execution_count": null,
   "metadata": {
    "colab": {},
    "colab_type": "code",
    "id": "9YXnCpdsv0-Z"
   },
   "outputs": [],
   "source": [
    "# Rasterfy embedding\n",
    "grid, dims = rasterfairy.transformPointCloud2D(\n",
    "    embedding[:, :], proportionThreshold=MIN_RATIO\n",
    ")\n",
    "\n",
    "# Fix grid type\n",
    "grid = grid.astype(int)\n",
    "\n",
    "# Fix orientation (portrait by default)\n",
    "if ORIENTATION == 'portrait':\n",
    "   pass\n",
    "elif ORIENTATION == 'landscape':\n",
    "  grid = grid[:, ::-1]\n",
    "  dims = dims[::-1]\n",
    "else:\n",
    "  raise ValueError(\"invalid orientation\")"
   ]
  },
  {
   "cell_type": "code",
   "execution_count": null,
   "metadata": {
    "colab": {
     "base_uri": "https://localhost:8080/",
     "height": 542
    },
    "colab_type": "code",
    "id": "7NyMwamGwm89",
    "outputId": "8f465d34-90e9-4203-86a8-c9515b75b9ce"
   },
   "outputs": [],
   "source": [
    "# View rasterfied embedding\n",
    "x = grid[:, 0]\n",
    "y = grid[:, 1]\n",
    "\n",
    "fig = go.Figure()\n",
    "\n",
    "fig.add_trace(go.Scatter(\n",
    "    # TODO: Fill in the missing scatter plot parameters (see the plot above)\n",
    "    \"_______\",\n",
    "    hovertemplate = '%{text}',\n",
    "    # Add `included` as a second argument to show audio features on hover\n",
    "    text=\"_________________________\"\n",
    "))\n",
    "\n",
    "# TODO: plot markers rather than lines (again, see above)\n",
    "\"_______________________________\"\n",
    "\n",
    "# TODO: show the plot\n",
    "\"_______\""
   ]
  },
  {
   "cell_type": "markdown",
   "metadata": {
    "colab_type": "text",
    "id": "INda04TR7qeq"
   },
   "source": [
    "## Visualisation"
   ]
  },
  {
   "cell_type": "markdown",
   "metadata": {
    "colab_type": "text",
    "id": "cUnJFqmi3j_Z"
   },
   "source": [
    "### Create Image"
   ]
  },
  {
   "cell_type": "code",
   "execution_count": null,
   "metadata": {
    "colab": {},
    "colab_type": "code",
    "id": "YzKIQmAqRs0C"
   },
   "outputs": [],
   "source": [
    "# Covert resolution level to number of pixels\n",
    "px = resolution_map(RESOLUTION)\n",
    "width = px * dims[0]\n",
    "# TODO: create a variable `height` using the 2nd element of `dims`\n",
    "\"___________________\"\n",
    "\n",
    "# Create empty grid to store cover art\n",
    "art_grid = np.empty((height, width, 3))\n",
    "\n",
    "for i, row in track_df.iterrows():\n",
    "  res = requests.get(row['art_url'])\n",
    "  img = Image.open(BytesIO(res.content))\n",
    "  img = img.resize((px, px), Image.ANTIALIAS).convert('RGB')\n",
    "  art_grid[px * grid[i, 1]:px * (grid[i, 1] + 1),\n",
    "           px * grid[i, 0]:px * (grid[i, 0] + 1)] = np.array(img)"
   ]
  },
  {
   "cell_type": "markdown",
   "metadata": {
    "colab_type": "text",
    "id": "tFIJ8znk4SOs"
   },
   "source": [
    "### Interactive Visualisation"
   ]
  },
  {
   "cell_type": "code",
   "execution_count": null,
   "metadata": {
    "colab": {
     "base_uri": "https://localhost:8080/",
     "height": 1000
    },
    "colab_type": "code",
    "id": "CF9WUj-VUgK_",
    "outputId": "76aa2d0e-9832-4565-9097-713042550922"
   },
   "outputs": [],
   "source": [
    "fig = go.Figure()\n",
    "\n",
    "# Add invisible markers in the corners to help with autoscaling\n",
    "fig.add_trace(go.Scatter(\n",
    "    x=[0, width], y=[0, height],\n",
    "    mode='markers', marker_opacity=0\n",
    "))\n",
    "\n",
    "# Add background image\n",
    "fig.add_layout_image({\n",
    "        'x': 0, 'sizex': width, 'xref': 'x',\n",
    "        'y': height, 'sizey': height, 'yref': 'y',\n",
    "        'opacity': 1.0, 'layer': 'below', 'sizing': 'stretch',\n",
    "        # Images are plotted downwards so reverse first axis\n",
    "        'source': Image.fromarray(art_grid.astype(np.uint8))\n",
    "})\n",
    "\n",
    "# Add labels through an invisible heatmap\n",
    "x = [px // 2 + px * i for i in range(dims[0])]\n",
    "y = [px // 2 + px * j for j in range(dims[1])]\n",
    "# Add `included` as a second argument to show audio features on hover\n",
    "hover_text = create_hover_text(track_df)\n",
    "labels = np.empty(dims[::-1], dtype='object')\n",
    "for i in range(len(track_df)):\n",
    "    labels[dims[1] - 1 - grid[i, 1], grid[i, 0]] = hover_text[i]\n",
    "z = np.random.uniform(size=dims[::-1])  # random values for invisible heatmap\n",
    "\n",
    "fig.add_trace(go.Heatmap(\n",
    "    x=x, y=y, z=z, hovertemplate = '%{text}', text=labels,\n",
    "    opacity=0, showscale=False\n",
    "))\n",
    "\n",
    "fig.update_xaxes(\n",
    "    visible=False,\n",
    "    range=[0, width]\n",
    ")\n",
    "fig.update_yaxes(\n",
    "    # TODO: set axis visibility and range (using `height`)\n",
    "    \"___________\",\n",
    "    \"_______________\",\n",
    "    # Fix aspect ratio\n",
    "    scaleanchor='x'\n",
    ")\n",
    "\n",
    "fig.update_layout(\n",
    "    width=width,\n",
    "    height=height,\n",
    "    margin={\"l\": 0, \"r\": 0, \"t\": 0, \"b\": 0},\n",
    "    plot_bgcolor='black'\n",
    ")\n",
    "\n",
    "# Disable the autosize on double click because it adds unwanted margins\n",
    "fig.show(config={'doubleClick': 'reset'})"
   ]
  },
  {
   "cell_type": "markdown",
   "metadata": {
    "colab_type": "text",
    "id": "jGT8Z7QD4Vj9"
   },
   "source": [
    "### Image Export"
   ]
  },
  {
   "cell_type": "code",
   "execution_count": null,
   "metadata": {
    "colab": {},
    "colab_type": "code",
    "id": "OKYlX95MRUiC"
   },
   "outputs": [],
   "source": [
    "# Save image to files - download from the sidebar\n",
    "Image.fromarray(art_grid.astype(np.uint8)).save('wall_of_music.png')"
   ]
  }
 ],
 "metadata": {
  "colab": {
   "collapsed_sections": [],
   "name": "Wall of Music Final",
   "provenance": [],
   "toc_visible": true
  },
  "kernelspec": {
   "display_name": "Python 3",
   "language": "python",
   "name": "python3"
  },
  "language_info": {
   "codemirror_mode": {
    "name": "ipython",
    "version": 3
   },
   "file_extension": ".py",
   "mimetype": "text/x-python",
   "name": "python",
   "nbconvert_exporter": "python",
   "pygments_lexer": "ipython3",
   "version": "3.8.3"
  }
 },
 "nbformat": 4,
 "nbformat_minor": 4
}
