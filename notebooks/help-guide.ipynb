{
 "cells": [
  {
   "cell_type": "markdown",
   "metadata": {},
   "source": [
    "## Part One"
   ]
  },
  {
   "cell_type": "markdown",
   "metadata": {},
   "source": [
    "### Fundamentals"
   ]
  },
  {
   "cell_type": "markdown",
   "metadata": {},
   "source": [
    "#### Running Code"
   ]
  },
  {
   "cell_type": "markdown",
   "metadata": {},
   "source": [
    "You can create a code cell in Colab by selecting an existing cell and selecting the `+ Code` button on the top bar.\n",
    "\n",
    "You can then enter code into a cell. For example, use `print(\"Hello, World!\")` to say hello.\n",
    "\n",
    "Finally, you can run code by pressing the play button next to the cell. If you want to step code before it completes, press the stop button.\n",
    "\n",
    "Note: Python generally doesn't care about spaces or new lines, but identation does matter.\n",
    "\n",
    "Lines beginning with `#` are not run. These are called comments.\n",
    "\n",
    "You will find `TODO`s followed by `\"_______\"`s. These are for you to fill in during the breakout sessions."
   ]
  },
  {
   "cell_type": "markdown",
   "metadata": {},
   "source": [
    "#### Imports"
   ]
  },
  {
   "cell_type": "markdown",
   "metadata": {},
   "source": [
    "_Live explanation_"
   ]
  },
  {
   "cell_type": "markdown",
   "metadata": {},
   "source": [
    "[PyPI](https://pypi.org/)"
   ]
  },
  {
   "cell_type": "markdown",
   "metadata": {},
   "source": [
    "#### Variables"
   ]
  },
  {
   "cell_type": "markdown",
   "metadata": {},
   "source": [
    "Variables are a way of given Python memory. The format for assigning a value to a variable is:\n",
    "\n",
    "```python\n",
    "variable_name = value\n",
    "```\n",
    "\n",
    "Note, the variable names can only contain letters, numbers, underscores, and hyphens (no spaces!). Once a variable has been assigned a value, whenever Python sees it in the future, it will replace it with the value it was last set to."
   ]
  },
  {
   "cell_type": "code",
   "execution_count": 7,
   "metadata": {},
   "outputs": [],
   "source": [
    "rpm = 45"
   ]
  },
  {
   "cell_type": "code",
   "execution_count": 8,
   "metadata": {},
   "outputs": [
    {
     "name": "stdout",
     "output_type": "stream",
     "text": [
      "12\n"
     ]
    }
   ],
   "source": [
    "print(x)"
   ]
  },
  {
   "cell_type": "code",
   "execution_count": 9,
   "metadata": {},
   "outputs": [],
   "source": [
    "rpm = 78"
   ]
  },
  {
   "cell_type": "code",
   "execution_count": 10,
   "metadata": {},
   "outputs": [
    {
     "name": "stdout",
     "output_type": "stream",
     "text": [
      "12\n"
     ]
    }
   ],
   "source": [
    "print(x)"
   ]
  },
  {
   "cell_type": "markdown",
   "metadata": {},
   "source": [
    "Be careful! Google Colab lets you run cells out of order. It is advised to run things from top to bottom only to avoid confusion. To run multiple cells, look at the `Runtime` dropdown on the top bar."
   ]
  },
  {
   "cell_type": "markdown",
   "metadata": {},
   "source": [
    "High-level parameters that do not change during the script are often denoted with all-caps."
   ]
  },
  {
   "cell_type": "markdown",
   "metadata": {},
   "source": [
    "#### Variable Types"
   ]
  },
  {
   "cell_type": "markdown",
   "metadata": {},
   "source": [
    "If you want to pass text data to Python, you need to explicitly use single or double quotes (they mean the seem) to let Python know that you intended to input text and not a variable."
   ]
  },
  {
   "cell_type": "code",
   "execution_count": 2,
   "metadata": {},
   "outputs": [],
   "source": [
    "greeting = 'Hello'"
   ]
  },
  {
   "cell_type": "code",
   "execution_count": 11,
   "metadata": {},
   "outputs": [
    {
     "ename": "NameError",
     "evalue": "name 'hello' is not defined",
     "output_type": "error",
     "traceback": [
      "\u001b[0;31m---------------------------------------------------------------------------\u001b[0m",
      "\u001b[0;31mNameError\u001b[0m                                 Traceback (most recent call last)",
      "\u001b[0;32m<ipython-input-11-6cf0c130756e>\u001b[0m in \u001b[0;36m<module>\u001b[0;34m\u001b[0m\n\u001b[0;32m----> 1\u001b[0;31m \u001b[0mgreeting\u001b[0m \u001b[0;34m=\u001b[0m \u001b[0mhello\u001b[0m\u001b[0;34m\u001b[0m\u001b[0;34m\u001b[0m\u001b[0m\n\u001b[0m",
      "\u001b[0;31mNameError\u001b[0m: name 'hello' is not defined"
     ]
    }
   ],
   "source": [
    "greeting = hello"
   ]
  },
  {
   "cell_type": "markdown",
   "metadata": {},
   "source": [
    "#### Functions"
   ]
  },
  {
   "cell_type": "markdown",
   "metadata": {},
   "source": [
    "You use functions to get Python to do something. They have a common syntax:\n",
    "\n",
    "```python\n",
    "function_name(input1, input2, ...)\n",
    "```\n",
    "\n",
    "Some functions _return_ a value, in which case we can assign this to a variable.\n",
    "\n",
    "```python\n",
    "variable = function_name(input1, input2, ...)\n",
    "```\n",
    "\n",
    "Some inputs have names, in which case we use this syntax.\n",
    "\n",
    "```python\n",
    "function_name(input1, named_input=input2)\n",
    "```\n",
    "\n",
    "Functions that belong to a certain package/module can be accessed using dot notation."
   ]
  },
  {
   "cell_type": "code",
   "execution_count": 40,
   "metadata": {},
   "outputs": [
    {
     "data": {
      "text/plain": [
       "array([[1., 0.],\n",
       "       [0., 1.]])"
      ]
     },
     "execution_count": 40,
     "metadata": {},
     "output_type": "execute_result"
    }
   ],
   "source": [
    "import numpy as np\n",
    "np.identity(2)"
   ]
  },
  {
   "cell_type": "code",
   "execution_count": 41,
   "metadata": {},
   "outputs": [
    {
     "data": {
      "text/plain": [
       "array([[0.50523498, 0.09872538, 0.44996275],\n",
       "       [0.56775269, 0.01496863, 0.5246139 ]])"
      ]
     },
     "execution_count": 41,
     "metadata": {},
     "output_type": "execute_result"
    }
   ],
   "source": [
    "np.random.uniform(size=(2, 3))"
   ]
  },
  {
   "cell_type": "markdown",
   "metadata": {},
   "source": [
    "#### Data Structures"
   ]
  },
  {
   "cell_type": "markdown",
   "metadata": {},
   "source": [
    "There are two key data structures we will be using.\n",
    "\n",
    "The first is the list. This is used to store a sequence of ordered elements. We use square brackets to create them."
   ]
  },
  {
   "cell_type": "code",
   "execution_count": 19,
   "metadata": {},
   "outputs": [],
   "source": [
    "past_olympics_hosts = ['Rio', 'London', 'Beijing', 'Athens']"
   ]
  },
  {
   "cell_type": "markdown",
   "metadata": {},
   "source": [
    "We can then access the elements using non-negative integers (think of these as 'house numbers' for data but starting at zero) and square brackets."
   ]
  },
  {
   "cell_type": "code",
   "execution_count": 26,
   "metadata": {},
   "outputs": [
    {
     "data": {
      "text/plain": [
       "'London'"
      ]
     },
     "execution_count": 26,
     "metadata": {},
     "output_type": "execute_result"
    }
   ],
   "source": [
    "past_olympics_hosts[1]"
   ]
  },
  {
   "cell_type": "markdown",
   "metadata": {},
   "source": [
    "Another useful structure is the dictionary. This is used for mapping a key to a value. We create them using curly brackets containing comma-separated key value pairs."
   ]
  },
  {
   "cell_type": "code",
   "execution_count": 22,
   "metadata": {},
   "outputs": [],
   "source": [
    "capitals = {\n",
    "    'spain': 'madrid',\n",
    "    'france': 'paris',\n",
    "    'portugal': 'lisbon'\n",
    "}"
   ]
  },
  {
   "cell_type": "markdown",
   "metadata": {},
   "source": [
    "We access these in the same way as lists, but using a key rather than an index."
   ]
  },
  {
   "cell_type": "code",
   "execution_count": 27,
   "metadata": {},
   "outputs": [
    {
     "data": {
      "text/plain": [
       "'madrid'"
      ]
     },
     "execution_count": 27,
     "metadata": {},
     "output_type": "execute_result"
    }
   ],
   "source": [
    "capitals['spain']"
   ]
  },
  {
   "cell_type": "markdown",
   "metadata": {},
   "source": [
    "#### For Loops"
   ]
  },
  {
   "cell_type": "markdown",
   "metadata": {},
   "source": [
    "Loops allow us to run a block of code multiple times. The most common type is a for loop. This iterates over a data structure, using a temporary variable to keep track of where we are. The notation is as follows."
   ]
  },
  {
   "cell_type": "code",
   "execution_count": 29,
   "metadata": {},
   "outputs": [
    {
     "name": "stdout",
     "output_type": "stream",
     "text": [
      "2\n",
      "3\n",
      "4\n"
     ]
    }
   ],
   "source": [
    "for n in range(2, 5):\n",
    "    print(n)"
   ]
  },
  {
   "cell_type": "code",
   "execution_count": 33,
   "metadata": {},
   "outputs": [
    {
     "name": "stdout",
     "output_type": "stream",
     "text": [
      "- Rio\n",
      "- London\n",
      "- Beijing\n",
      "- Athens\n"
     ]
    }
   ],
   "source": [
    "for city in past_olympics_hosts:\n",
    "    print(\"-\", city)"
   ]
  },
  {
   "cell_type": "markdown",
   "metadata": {},
   "source": [
    "### The Spotify API"
   ]
  },
  {
   "cell_type": "markdown",
   "metadata": {},
   "source": [
    "#### APIs"
   ]
  },
  {
   "cell_type": "markdown",
   "metadata": {},
   "source": [
    "_Live explanation_\n",
    "\n",
    "Example: `https://www.googleapis.com/books/v1/volumes?q=isbn:9781491912058`\n",
    "\n",
    "[List of public APIs](https://github.com/public-apis/public-apis)"
   ]
  },
  {
   "cell_type": "markdown",
   "metadata": {},
   "source": [
    "#### The Spotiy API"
   ]
  },
  {
   "cell_type": "markdown",
   "metadata": {},
   "source": [
    "Anyone with a Spotify account (free or premium) can use Spotify API at no cost. \n",
    "\n",
    "First, visit [developer.spotify.com/](https://developer.spotify.com/), sign-in, and select 'Dashboard' form the top bar.\n",
    "\n",
    "From here, click 'Create an App' and fill in the details. These can be anything reasonable. For example, \"WDSS Spotify Workshop\", \"An app for learning about the Spotify API\" would do.\n",
    "\n",
    "Each app has a client ID and secret. There's no real harm in sharing either but it is best practice to keep both or at the very least the secret hidden. You will need to use these when creating a connection to the API in the template."
   ]
  },
  {
   "cell_type": "markdown",
   "metadata": {},
   "source": [
    "#### Spotipy\n",
    "\n",
    "We could access the Spotify API directly using web requests, but this is added work. Instead,n rather than reinventing the wheel, we use `spotipy`, a Python wrapper for the API. We create a client `sp` using our authentication keys and then access its methods to make queries. For example, `sp.featured_playlists()` will get a list of Spotify's featured playlists."
   ]
  },
  {
   "cell_type": "markdown",
   "metadata": {},
   "source": [
    "Note, certain `spotipy` features won't work without setting up OAuth.\n",
    "\n",
    "[Spotipy documentation](https://spotipy.readthedocs.io/en/2.15.0/#)"
   ]
  },
  {
   "cell_type": "markdown",
   "metadata": {},
   "source": [
    "#### Usernames"
   ]
  },
  {
   "cell_type": "markdown",
   "metadata": {},
   "source": [
    "You can find your Spotify username by visiting your profile on the web or by sharing a link to your account and copying the code between `user/` and `?si` (the latter might not be there). \n",
    "\n",
    "For example, the profile share link for WDSS is `https://open.spotify.com/user/vr1q8on6ji60ceo0kregujkkx?si=WaNuj8aORWmrxEdTfG9OTQ` and our username is `vr1q8on6ji60ceo0kregujkkx`.\n",
    "\n",
    "If you cannot find your own username, just use ours!"
   ]
  },
  {
   "cell_type": "markdown",
   "metadata": {},
   "source": [
    "### Data Scraping"
   ]
  },
  {
   "cell_type": "markdown",
   "metadata": {},
   "source": [
    "#### Pagination"
   ]
  },
  {
   "cell_type": "markdown",
   "metadata": {},
   "source": [
    "The Spotify API returns results using pagination. That is, only a certain number of items are returned at a time and you have to request 'page 2', etc. This is all taken care of using the `depaginate` helper, which flattens these results into one list (a generator to be precise)."
   ]
  },
  {
   "cell_type": "markdown",
   "metadata": {},
   "source": [
    "#### Audio Features"
   ]
  },
  {
   "cell_type": "markdown",
   "metadata": {},
   "source": [
    "The Spotify API enables you to collect audio features about any tracks including tempo, key, instrumentalness, and danceability.\n",
    "\n",
    "We will use these as the foundation for laying out our wall of music.\n",
    "\n",
    "[List of available audio features](https://developer.spotify.com/documentation/web-api/reference/tracks/get-audio-features/)"
   ]
  },
  {
   "cell_type": "markdown",
   "metadata": {},
   "source": [
    "> **Breakout Session One**\n",
    ">\n",
    "> Complete the setup and data scraping steps of the template"
   ]
  },
  {
   "cell_type": "markdown",
   "metadata": {},
   "source": [
    "## Part Two"
   ]
  },
  {
   "cell_type": "markdown",
   "metadata": {},
   "source": [
    "### Pre-processing"
   ]
  },
  {
   "cell_type": "markdown",
   "metadata": {},
   "source": [
    "#### Dataframes"
   ]
  },
  {
   "cell_type": "markdown",
   "metadata": {},
   "source": [
    "Dataframes are a more powerful data structure not included in base Python. Instead, we gain access to these by importing `pandas` (under the alias `pd`). You can print out a dataframe by typing its name in a cell of its own. If you only want the first few rows use `df_name.head()` and `df_name.tail()` for the bottom."
   ]
  },
  {
   "cell_type": "markdown",
   "metadata": {},
   "source": [
    "#### Sampling"
   ]
  },
  {
   "cell_type": "markdown",
   "metadata": {},
   "source": [
    "Our end goal is to create a grid of cover arts. This dimensions of this grid will be determined by the number of tracks in our playlist. If we have 100 tracks then we get a perfect 10-by-10 square. If we add one more to make 101, we now have a prime number of tracks so the best we can do is 1-by-101."
   ]
  },
  {
   "cell_type": "markdown",
   "metadata": {},
   "source": [
    "This would look ridiculous and so we use the parameter `MIN_RATIO` to set the minimum ratio between side lengths that we are willing to accept."
   ]
  },
  {
   "cell_type": "markdown",
   "metadata": {},
   "source": [
    "Then, we take our initial number of tracks and reduce it until we can form a rectangle with sides meeting this constraint. This is handled by the `find_valid_sample_count(...)` helper.\n",
    "\n",
    "We then randomly sample this many rows from the table."
   ]
  },
  {
   "cell_type": "markdown",
   "metadata": {},
   "source": [
    "#### Feature Engineering"
   ]
  },
  {
   "cell_type": "markdown",
   "metadata": {},
   "source": [
    "Most of our audio features are ready for use, but the `key` column is certainly not. The twelve western keys are encoded using the numbers 0 to 11. This is inappropriate as it puts the keys C and B at a distance of 11 even though the come right next to each other."
   ]
  },
  {
   "cell_type": "markdown",
   "metadata": {},
   "source": [
    "| Key | Encoding |\n",
    "|:---:|:--------:|\n",
    "|  C  |     0    |\n",
    "|  Db |     1    |\n",
    "|  D  |     2    |\n",
    "|  Eb |     3    |\n",
    "|  E  |     4    |\n",
    "|  F  |     5    |\n",
    "|  F# |     6    |\n",
    "|  G  |     7    |\n",
    "|  Ab |     8    |\n",
    "|  A  |     9    |\n",
    "|  Bb |    10    |\n",
    "|  B  |    11    |"
   ]
  },
  {
   "cell_type": "markdown",
   "metadata": {},
   "source": [
    "What we need is a cyclic system. To do this we space the keys around a unit circle and record their x and y coordinates. Now, the key is represented by two variables instead of one but the distance between keys is now correct."
   ]
  },
  {
   "cell_type": "code",
   "execution_count": 57,
   "metadata": {},
   "outputs": [
    {
     "data": {
      "image/png": "[encoded data removed]",
      "text/plain": [
       "<Figure size 432x432 with 1 Axes>"
      ]
     },
     "metadata": {
      "needs_background": "light"
     },
     "output_type": "display_data"
    }
   ],
   "source": [
    "import matplotlib.pyplot as plt\n",
    "fig, ax = plt.subplots(figsize=(6, 6))\n",
    "x_circ = np.cos(np.linspace(0, 2 * np.pi, 100))\n",
    "y_circ = np.sin(np.linspace(0, 2 * np.pi, 100))\n",
    "ax.plot(x_circ, y_circ, c='k')\n",
    "x_key = np.cos(np.linspace(0, 11/6 * np.pi, 12))\n",
    "y_key = np.sin(np.linspace(0, 11/6 * np.pi, 12))\n",
    "s_key = ['C', 'Db', 'D', 'Eb', 'E', 'F', 'F#', 'G', 'Ab', 'A', 'Bb', 'B']\n",
    "ax.scatter(x_key, y_key, c='r')\n",
    "for x, y, s in zip(x_key, y_key, s_key):\n",
    "    ax.text(x * 1.1, y * 1.1, s, ha='center', va='center')\n",
    "ax.set_xlim(-1.2, 1.2)\n",
    "ax.set_ylim(-1.2, 1.2)\n",
    "plt.show()"
   ]
  },
  {
   "cell_type": "markdown",
   "metadata": {},
   "source": [
    "There's also this thing called the circle of fifths. If you don't know music theory, this is not worth sweating about. The bottom line is, there are two ways of measuring the distance between keys: melodically and harmonically. Both of these are useful for us and so we use the helper `mel_to_harm` to convert the keys to an encoding that respresents harmonic distance and repeat the above process. "
   ]
  },
  {
   "cell_type": "markdown",
   "metadata": {},
   "source": [
    "![Circle of Fifths](https://hellomusictheory.com/wp-content/uploads/2020/07/circle-00-768x767.png)"
   ]
  },
  {
   "cell_type": "markdown",
   "metadata": {},
   "source": [
    "#### Standardisation"
   ]
  },
  {
   "cell_type": "markdown",
   "metadata": {},
   "source": [
    "Our variables exists on wildly different scales (compare `tempo` to `key`, or even `duration_ms`). We standardise these by centering them around zero and dividing so we are left with unit variance."
   ]
  },
  {
   "cell_type": "markdown",
   "metadata": {},
   "source": [
    "That may sound like statistical gibberish (and to be fair, it is) but thankfully, we can easily do this by fitting and transforming a `StandardScaler` on our feature dataframe."
   ]
  },
  {
   "cell_type": "markdown",
   "metadata": {},
   "source": [
    "### Dimensionality Reduction"
   ]
  },
  {
   "cell_type": "markdown",
   "metadata": {},
   "source": [
    "#### Embeddings"
   ]
  },
  {
   "cell_type": "markdown",
   "metadata": {},
   "source": [
    "In all, we collect 13 audio features and transform these into 16. Visualising three dimensions is hard enough and so 16 is out of the question."
   ]
  },
  {
   "cell_type": "markdown",
   "metadata": {},
   "source": [
    "This is no problem though; after all, a painting is a two dimensional representation of a 3D world. We simply need to reduce these 16 dimensions to two."
   ]
  },
  {
   "cell_type": "markdown",
   "metadata": {},
   "source": [
    "We can achieve this by using an embedding. The goal of embeddings is to reduce the dimension of a space whilst retaining as much of the original structure as possible. There are two types of structure we care about:\n",
    "\n",
    "- **Global:** large clusters in the high-demensional space should cluster together in the low-dimensional space\n",
    "- **Local:** neighbours in the high-dimensional space should remain neighbours\n",
    "\n",
    "In reality, a compromise between these two is needed, and we can control this balance using _hyperparameters_."
   ]
  },
  {
   "cell_type": "markdown",
   "metadata": {},
   "source": [
    "We use the `UMAP` algorithm to embed our data, using the same `fit_transform` procedure as before."
   ]
  },
  {
   "cell_type": "markdown",
   "metadata": {},
   "source": [
    "> **Breakout Session Two**\n",
    ">\n",
    "> Complete the pre-proccessing and the embedding step"
   ]
  },
  {
   "cell_type": "markdown",
   "metadata": {},
   "source": [
    "## Part Three"
   ]
  },
  {
   "cell_type": "markdown",
   "metadata": {},
   "source": [
    "#### Rasterfication"
   ]
  },
  {
   "cell_type": "markdown",
   "metadata": {},
   "source": [
    "The embedding leaves us with a contiuous 2D space, however we want a grid. We can therefore use the wonder `rasterfairy` package to _rasterfy_ (pretty sure I've made this word up, so use it carefully) our points."
   ]
  },
  {
   "cell_type": "markdown",
   "metadata": {},
   "source": [
    "A raster image is one made up of square pixels, hence where the package name and process derives from."
   ]
  },
  {
   "cell_type": "markdown",
   "metadata": {},
   "source": [
    "We've already seen how to create a plot in the embedding section so there are a lot more gaps to fill in this second time."
   ]
  },
  {
   "cell_type": "markdown",
   "metadata": {},
   "source": [
    "### Visualisation"
   ]
  },
  {
   "cell_type": "markdown",
   "metadata": {},
   "source": [
    "#### Image Creation"
   ]
  },
  {
   "cell_type": "markdown",
   "metadata": {},
   "source": [
    "We create the final image by stitching together multiple, individual cover arts. A perculiar point to note is that all of our dimensions seem to be reversed...because they are!\n",
    "\n",
    "Matrices represent their data using the y (row) coordinate, leading to some confusing code. You get used to the conversion with practice though."
   ]
  },
  {
   "cell_type": "markdown",
   "metadata": {},
   "source": [
    "#### The Final Product"
   ]
  },
  {
   "cell_type": "markdown",
   "metadata": {},
   "source": [
    "Lastly, we have a mammoth code block used to create an interative visualisation. This uses some sneaky tricks such as using an invisible heatmap (`opacity=0`) to add labels to a background image."
   ]
  },
  {
   "cell_type": "markdown",
   "metadata": {},
   "source": [
    "Note, you can add the audio features to the hover text by add `included` as a second argument to the create `create_hover_text` helper."
   ]
  },
  {
   "cell_type": "markdown",
   "metadata": {},
   "source": [
    "If you are running this on Colab, you might crash the kernel if you use too many images. This is because Colab supplies you with a limited amount of memory (admittedly for free, so you can't complain). For larger images, either skip the interactive visualisation and export to a PNG or run the code on your local computer (instructions [here](https://github.com/warwickdatascience/spotify-workshop))."
   ]
  },
  {
   "cell_type": "markdown",
   "metadata": {},
   "source": [
    "#### Wrapping Up"
   ]
  },
  {
   "cell_type": "markdown",
   "metadata": {},
   "source": [
    "Follow WDSS on [Facebook](https://www.facebook.com/warwickdatasciencesociety), [LinkedIn](https://www.linkedin.com/company/warwickdatasciencesociety/), [Instagram](https://www.instagram.com/warwickdatasciencesociety/).\n",
    "\n",
    "Join our [community group](https://www.facebook.com/groups/wdss.community).\n",
    "\n",
    "[Subject examples](https://github.com/warwickdatascience/subject-examples/tree/master/python) and [research blog](http://research.wdss.io/).\n",
    "\n",
    "Know a graphic designer? [Ignore the deadline](https://recruitment.warwickdatascience.com/wdss-graphic-designer)."
   ]
  }
 ],
 "metadata": {
  "kernelspec": {
   "display_name": "Python 3",
   "language": "python",
   "name": "python3"
  },
  "language_info": {
   "codemirror_mode": {
    "name": "ipython",
    "version": 3
   },
   "file_extension": ".py",
   "mimetype": "text/x-python",
   "name": "python",
   "nbconvert_exporter": "python",
   "pygments_lexer": "ipython3",
   "version": "3.8.3"
  }
 },
 "nbformat": 4,
 "nbformat_minor": 4
}
