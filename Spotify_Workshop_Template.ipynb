{
  "nbformat": 4,
  "nbformat_minor": 0,
  "metadata": {
    "colab": {
      "name": "Spotify Workshop Template",
      "provenance": [],
      "collapsed_sections": [],
      "include_colab_link": true
    },
    "kernelspec": {
      "display_name": "Python 3",
      "language": "python",
      "name": "python3"
    },
    "language_info": {
      "codemirror_mode": {
        "name": "ipython",
        "version": 3
      },
      "file_extension": ".py",
      "mimetype": "text/x-python",
      "name": "python",
      "nbconvert_exporter": "python",
      "pygments_lexer": "ipython3",
      "version": "3.8.3"
    }
  },
  "cells": [
    {
      "cell_type": "markdown",
      "metadata": {
        "id": "view-in-github",
        "colab_type": "text"
      },
      "source": [
        "<a href=\"https://colab.research.google.com/github/DavidMcK9509/spotify-workshop/blob/master/Spotify_Workshop_Template.ipynb\" target=\"_parent\"><img src=\"https://colab.research.google.com/assets/colab-badge.svg\" alt=\"Open In Colab\"/></a>"
      ]
    },
    {
      "cell_type": "markdown",
      "metadata": {
        "id": "087AV8E0wiYc"
      },
      "source": [
        "## Starting off "
      ]
    },
    {
      "cell_type": "markdown",
      "metadata": {
        "id": "8XVldCAQwmS_"
      },
      "source": [
        "##### Try out the following commands in the code block below, replacing the \"____________\" sections with your code\n",
        "\n",
        "1.   print(\"Hello World) \n",
        "\n",
        "1.   name = \"My name\"\n",
        "2.   print(name)\n",
        "\n",
        "2.   print(5 * 10)\n",
        "\n",
        "If your code isn't running make sure you have pressed \"Connect\" in the top right hand corner\n",
        "\n",
        "![Connect button.JPG](data:image/jpeg;base64,/9j/4AAQSkZJRgABAQEAkACQAAD/4RD6RXhpZgAATU0AKgAAAAgABAE7AAIAAAAQAAAISodpAAQAAAABAAAIWpydAAEAAAAgAAAQ0uocAAcAAAgMAAAAPgAAAAAc6gAAAAgAAAAAAAAAAAAAAAAAAAAAAAAAAAAAAAAAAAAAAAAAAAAAAAAAAAAAAAAAAAAAAAAAAAAAAAAAAAAAAAAAAAAAAAAAAAAAAAAAAAAAAAAAAAAAAAAAAAAAAAAAAAAAAAAAAAAAAAAAAAAAAAAAAAAAAAAAAAAAAAAAAAAAAAAAAAAAAAAAAAAAAAAAAAAAAAAAAAAAAAAAAAAAAAAAAAAAAAAAAAAAAAAAAAAAAAAAAAAAAAAAAAAAAAAAAAAAAAAAAAAAAAAAAAAAAAAAAAAAAAAAAAAAAAAAAAAAAAAAAAAAAAAAAAAAAAAAAAAAAAAAAAAAAAAAAAAAAAAAAAAAAAAAAAAAAAAAAAAAAAAAAAAAAAAAAAAAAAAAAAAAAAAAAAAAAAAAAAAAAAAAAAAAAAAAAAAAAAAAAAAAAAAAAAAAAAAAAAAAAAAAAAAAAAAAAAAAAAAAAAAAAAAAAAAAAAAAAAAAAAAAAAAAAAAAAAAAAAAAAAAAAAAAAAAAAAAAAAAAAAAAAAAAAAAAAAAAAAAAAAAAAAAAAAAAAAAAAAAAAAAAAAAAAAAAAAAAAAAAAAAAAAAAAAAAAAAAAAAAAAAAAAAAAAAAAAAAAAAAAAAAAAAAAAAAAAAAAAAAAAAAAAAAAAAAAAAAAAAAAAAAAAAAAAAAAAAAAAAAAAAAAAAAAAAAAAAAAAAAAAAAAAAAAAAAAAAAAAAAAAAAAAAAAAAAAAAAAAAAAAAAAAAAAAAAAAAAAAAAAAAAAAAAAAAAAAAAAAAAAAAAAAAAAAAAAAAAAAAAAAAAAAAAAAAAAAAAAAAAAAAAAAAAAAAAAAAAAAAAAAAAAAAAAAAAAAAAAAAAAAAAAAAAAAAAAAAAAAAAAAAAAAAAAAAAAAAAAAAAAAAAAAAAAAAAAAAAAAAAAAAAAAAAAAAAAAAAAAAAAAAAAAAAAAAAAAAAAAAAAAAAAAAAAAAAAAAAAAAAAAAAAAAAAAAAAAAAAAAAAAAAAAAAAAAAAAAAAAAAAAAAAAAAAAAAAAAAAAAAAAAAAAAAAAAAAAAAAAAAAAAAAAAAAAAAAAAAAAAAAAAAAAAAAAAAAAAAAAAAAAAAAAAAAAAAAAAAAAAAAAAAAAAAAAAAAAAAAAAAAAAAAAAAAAAAAAAAAAAAAAAAAAAAAAAAAAAAAAAAAAAAAAAAAAAAAAAAAAAAAAAAAAAAAAAAAAAAAAAAAAAAAAAAAAAAAAAAAAAAAAAAAAAAAAAAAAAAAAAAAAAAAAAAAAAAAAAAAAAAAAAAAAAAAAAAAAAAAAAAAAAAAAAAAAAAAAAAAAAAAAAAAAAAAAAAAAAAAAAAAAAAAAAAAAAAAAAAAAAAAAAAAAAAAAAAAAAAAAAAAAAAAAAAAAAAAAAAAAAAAAAAAAAAAAAAAAAAAAAAAAAAAAAAAAAAAAAAAAAAAAAAAAAAAAAAAAAAAAAAAAAAAAAAAAAAAAAAAAAAAAAAAAAAAAAAAAAAAAAAAAAAAAAAAAAAAAAAAAAAAAAAAAAAAAAAAAAAAAAAAAAAAAAAAAAAAAAAAAAAAAAAAAAAAAAAAAAAAAAAAAAAAAAAAAAAAAAAAAAAAAAAAAAAAAAAAAAAAAAAAAAAAAAAAAAAAAAAAAAAAAAAAAAAAAAAAAAAAAAAAAAAAAAAAAAAAAAAAAAAAAAAAAAAAAAAAAAAAAAAAAAAAAAAAAAAAAAAAAAAAAAAAAAAAAAAAAAAAAAAAAAAAAAAAAAAAAAAAAAAAAAAAAAAAAAAAAAAAAAAAAAAAAAAAAAAAAAAAAAAAAAAAAAAAAAAAAAAAAAAAAAAAAAAAAAAAAAAAAAAAAAAAAAAAAAAAAAAAAAAAAAAAAAAAAAAAAAAAAAAAAAAAAAAAAAAAAAAAAAAAAAAAAAAAAAAAAAAAAAAAAAAAAAAAAAAAAAAAAAAAAAAAAAAAAAAAAAAAAAAAAAAAAAAAAAAAAAAAAAAAAAAAAAAAAAAAAAAAAAAAAAAAAAAAAAAAAAAAAAAAAAAAAAAAAAAAAAAAAAAAAAAAAAAAAAAAAAAAAAAAAAAAAAAAAAAAAAAAAAAAAAAAAAAAAAAAAAAAAAAAAAAAAAAAAAAAAAAAAAAAAAAAAAAAAAAAAAAAAAAAAAAAAAAAAAAAAAAAAAAAAAAAAAAAAAAAAAAAAAAAAAAAAAAAAAAAAAAAAAAAAAAAAAAAAAAAAAAAAAAAAAAAAAAAAAAAAAAAAAAAAAAAAAAAAAAAAAAAAAAAAAAAAAAAAAAAAAAAAAAAAAAAAAAAAAAAAAAAAAAAAAAAAAAAAAAAAAAAAAAAAAAAAAAAAAAAAAAAAAAAAAAAAAAAAAAAAAAAAAAAAAAAAAAAAAAAAAAAAAAAAAAAAAAAAAAAAAAAAAAAAAAAAAAAAAAAAAAAAAAAAAAAAAAAAAAAAAAAAAAAAAAAAAAAAAAAAAAAAAAAAAAAAAAAAAAAAAAAAAAAAAAAAAAAAAAAAAAAAAAAAAAAAAAAAAAAAAAAAAAAAAAAAAAAAAAAAAAAAAAAAAAAAAAAAAAAAAAAAAAAAAAAAAAAAAAAAAAAAAAAAAAAAAAAAAAAAAAAAAAAAAAAAAAAAAAAAAAAAAAAAAAAAAAAAAAAAAAAAAAAAAAAAAAAAAAAAAAAAAAAAAAAAAAAAAAAAAAAAAAAAAAAAAAAAAAAAAAAAAAAAAAAAAAAAAAAAAAAAAAAAAAAAAAAAAAAAAAAAAAAE1jS2lubmV5LCBEYXZpZAAABZADAAIAAAAUAAAQqJAEAAIAAAAUAAAQvJKRAAIAAAADNjAAAJKSAAIAAAADNjAAAOocAAcAAAgMAAAInAAAAAAc6gAAAAgAAAAAAAAAAAAAAAAAAAAAAAAAAAAAAAAAAAAAAAAAAAAAAAAAAAAAAAAAAAAAAAAAAAAAAAAAAAAAAAAAAAAAAAAAAAAAAAAAAAAAAAAAAAAAAAAAAAAAAAAAAAAAAAAAAAAAAAAAAAAAAAAAAAAAAAAAAAAAAAAAAAAAAAAAAAAAAAAAAAAAAAAAAAAAAAAAAAAAAAAAAAAAAAAAAAAAAAAAAAAAAAAAAAAAAAAAAAAAAAAAAAAAAAAAAAAAAAAAAAAAAAAAAAAAAAAAAAAAAAAAAAAAAAAAAAAAAAAAAAAAAAAAAAAAAAAAAAAAAAAAAAAAAAAAAAAAAAAAAAAAAAAAAAAAAAAAAAAAAAAAAAAAAAAAAAAAAAAAAAAAAAAAAAAAAAAAAAAAAAAAAAAAAAAAAAAAAAAAAAAAAAAAAAAAAAAAAAAAAAAAAAAAAAAAAAAAAAAAAAAAAAAAAAAAAAAAAAAAAAAAAAAAAAAAAAAAAAAAAAAAAAAAAAAAAAAAAAAAAAAAAAAAAAAAAAAAAAAAAAAAAAAAAAAAAAAAAAAAAAAAAAAAAAAAAAAAAAAAAAAAAAAAAAAAAAAAAAAAAAAAAAAAAAAAAAAAAAAAAAAAAAAAAAAAAAAAAAAAAAAAAAAAAAAAAAAAAAAAAAAAAAAAAAAAAAAAAAAAAAAAAAAAAAAAAAAAAAAAAAAAAAAAAAAAAAAAAAAAAAAAAAAAAAAAAAAAAAAAAAAAAAAAAAAAAAAAAAAAAAAAAAAAAAAAAAAAAAAAAAAAAAAAAAAAAAAAAAAAAAAAAAAAAAAAAAAAAAAAAAAAAAAAAAAAAAAAAAAAAAAAAAAAAAAAAAAAAAAAAAAAAAAAAAAAAAAAAAAAAAAAAAAAAAAAAAAAAAAAAAAAAAAAAAAAAAAAAAAAAAAAAAAAAAAAAAAAAAAAAAAAAAAAAAAAAAAAAAAAAAAAAAAAAAAAAAAAAAAAAAAAAAAAAAAAAAAAAAAAAAAAAAAAAAAAAAAAAAAAAAAAAAAAAAAAAAAAAAAAAAAAAAAAAAAAAAAAAAAAAAAAAAAAAAAAAAAAAAAAAAAAAAAAAAAAAAAAAAAAAAAAAAAAAAAAAAAAAAAAAAAAAAAAAAAAAAAAAAAAAAAAAAAAAAAAAAAAAAAAAAAAAAAAAAAAAAAAAAAAAAAAAAAAAAAAAAAAAAAAAAAAAAAAAAAAAAAAAAAAAAAAAAAAAAAAAAAAAAAAAAAAAAAAAAAAAAAAAAAAAAAAAAAAAAAAAAAAAAAAAAAAAAAAAAAAAAAAAAAAAAAAAAAAAAAAAAAAAAAAAAAAAAAAAAAAAAAAAAAAAAAAAAAAAAAAAAAAAAAAAAAAAAAAAAAAAAAAAAAAAAAAAAAAAAAAAAAAAAAAAAAAAAAAAAAAAAAAAAAAAAAAAAAAAAAAAAAAAAAAAAAAAAAAAAAAAAAAAAAAAAAAAAAAAAAAAAAAAAAAAAAAAAAAAAAAAAAAAAAAAAAAAAAAAAAAAAAAAAAAAAAAAAAAAAAAAAAAAAAAAAAAAAAAAAAAAAAAAAAAAAAAAAAAAAAAAAAAAAAAAAAAAAAAAAAAAAAAAAAAAAAAAAAAAAAAAAAAAAAAAAAAAAAAAAAAAAAAAAAAAAAAAAAAAAAAAAAAAAAAAAAAAAAAAAAAAAAAAAAAAAAAAAAAAAAAAAAAAAAAAAAAAAAAAAAAAAAAAAAAAAAAAAAAAAAAAAAAAAAAAAAAAAAAAAAAAAAAAAAAAAAAAAAAAAAAAAAAAAAAAAAAAAAAAAAAAAAAAAAAAAAAAAAAAAAAAAAAAAAAAAAAAAAAAAAAAAAAAAAAAAAAAAAAAAAAAAAAAAAAAAAAAAAAAAAAAAAAAAAAAAAAAAAAAAAAAAAAAAAAAAAAAAAAAAAAAAAAAAAAAAAAAAAAAAAAAAAAAAAAAAAAAAAAAAAAAAAAAAAAAAAAAAAAAAAAAAAAAAAAAAAAAAAAAAAAAAAAAAAAAAAAAAAAAAAAAAAAAAAAAAAAAAAAAAAAAAAAAAAAAAAAAAAAAAAAAAAAAAAAAAAAAAAAAAAAAAAAAAAAAAAAAAAAAAAAAAAAAAAAAAAAAAAAAAAAAAAAAAAAAAAAAAAAAAAAAAAAAAAAAAAAAAAAAAAAAAAAAAAAAAAAAAAAAAAAAAAAAAAAAAAAAAAAAAAAAAAAAAAAAAAAAAAAAAAAAAAAAAAAAAAAAAAAAAAAAAAAAAAAAAAAAAAAAAAAAAAAAAAAAAAAAAAAAAAAAAAAAAAAAAAAAAAAAAAAAAAAAAAAAAAAAAAAAAAAAAAAAAAAAAAAAAAAAAAAAAAAAAAAAAAAAAAAAAAAAAAAAAAAAAAAAAAAAAAAAAAAAAAAAAAAAAAAAAAAAAAAAAAAAAAAAAAAAAAAAAAAAAAAAAAAAAAAAAAAAAAAAAAAAAAAAAAAAAAAAAAAAAAAAAAAAAAAAAAAAAAAAAAAAAAAAAAAAAAAAAAAAAAAAAAAAAAAAAAAAAAAAAAAAAAAAAAAAAAAAAAAAAAAAAAAAAAAAAAAAAAAAAAAAAAAAAAAAAAAAAAAAAAAAAAAAAAAAAAAAAAAAAAAAAAAAAAAAAAAAAAAAAAAAAAAAAAAAAAAAAAAAAAAAAAAAAAAAAAAAAAAAAAAAAAAAAAAAAAAAAAAAAAAAAAAAAAAAAAAAAAAAAAAAAAAAAAAAAAAAAAAAAAAAAAAAAAAAAAAAAAAAAAAADIwMjA6MTA6MjcgMTY6NDI6MjkAMjAyMDoxMDoyNyAxNjo0MjoyOQAAAE0AYwBLAGkAbgBuAGUAeQAsACAARABhAHYAaQBkAAAA/+ELImh0dHA6Ly9ucy5hZG9iZS5jb20veGFwLzEuMC8APD94cGFja2V0IGJlZ2luPSfvu78nIGlkPSdXNU0wTXBDZWhpSHpyZVN6TlRjemtjOWQnPz4NCjx4OnhtcG1ldGEgeG1sbnM6eD0iYWRvYmU6bnM6bWV0YS8iPjxyZGY6UkRGIHhtbG5zOnJkZj0iaHR0cDovL3d3dy53My5vcmcvMTk5OS8wMi8yMi1yZGYtc3ludGF4LW5zIyI+PHJkZjpEZXNjcmlwdGlvbiByZGY6YWJvdXQ9InV1aWQ6ZmFmNWJkZDUtYmEzZC0xMWRhLWFkMzEtZDMzZDc1MTgyZjFiIiB4bWxuczpkYz0iaHR0cDovL3B1cmwub3JnL2RjL2VsZW1lbnRzLzEuMS8iLz48cmRmOkRlc2NyaXB0aW9uIHJkZjphYm91dD0idXVpZDpmYWY1YmRkNS1iYTNkLTExZGEtYWQzMS1kMzNkNzUxODJmMWIiIHhtbG5zOnhtcD0iaHR0cDovL25zLmFkb2JlLmNvbS94YXAvMS4wLyI+PHhtcDpDcmVhdGVEYXRlPjIwMjAtMTAtMjdUMTY6NDI6MjkuNjAyPC94bXA6Q3JlYXRlRGF0ZT48L3JkZjpEZXNjcmlwdGlvbj48cmRmOkRlc2NyaXB0aW9uIHJkZjphYm91dD0idXVpZDpmYWY1YmRkNS1iYTNkLTExZGEtYWQzMS1kMzNkNzUxODJmMWIiIHhtbG5zOmRjPSJodHRwOi8vcHVybC5vcmcvZGMvZWxlbWVudHMvMS4xLyI+PGRjOmNyZWF0b3I+PHJkZjpTZXEgeG1sbnM6cmRmPSJodHRwOi8vd3d3LnczLm9yZy8xOTk5LzAyLzIyLXJkZi1zeW50YXgtbnMjIj48cmRmOmxpPk1jS2lubmV5LCBEYXZpZDwvcmRmOmxpPjwvcmRmOlNlcT4NCgkJCTwvZGM6Y3JlYXRvcj48L3JkZjpEZXNjcmlwdGlvbj48L3JkZjpSREY+PC94OnhtcG1ldGE+DQogICAgICAgICAgICAgICAgICAgICAgICAgICAgICAgICAgICAgICAgICAgICAgICAgICAgICAgICAgICAgICAgICAgICAgICAgICAgICAgICAgICAgICAgICAgICAgICAgICAgCiAgICAgICAgICAgICAgICAgICAgICAgICAgICAgICAgICAgICAgICAgICAgICAgICAgICAgICAgICAgICAgICAgICAgICAgICAgICAgICAgICAgICAgICAgICAgICAgICAgICAKICAgICAgICAgICAgICAgICAgICAgICAgICAgICAgICAgICAgICAgICAgICAgICAgICAgICAgICAgICAgICAgICAgICAgICAgICAgICAgICAgICAgICAgICAgICAgICAgICAgIAogICAgICAgICAgICAgICAgICAgICAgICAgICAgICAgICAgICAgICAgICAgICAgICAgICAgICAgICAgICAgICAgICAgICAgICAgICAgICAgICAgICAgICAgICAgICAgICAgICAgCiAgICAgICAgICAgICAgICAgICAgICAgICAgICAgICAgICAgICAgICAgICAgICAgICAgICAgICAgICAgICAgICAgICAgICAgICAgICAgICAgICAgICAgICAgICAgICAgICAgICAKICAgICAgICAgICAgICAgICAgICAgICAgICAgICAgICAgICAgICAgICAgICAgICAgICAgICAgICAgICAgICAgICAgICAgICAgICAgICAgICAgICAgICAgICAgICAgICAgICAgIAogICAgICAgICAgICAgICAgICAgICAgICAgICAgICAgICAgICAgICAgICAgICAgICAgICAgICAgICAgICAgICAgICAgICAgICAgICAgICAgICAgICAgICAgICAgICAgICAgICAgCiAgICAgICAgICAgICAgICAgICAgICAgICAgICAgICAgICAgICAgICAgICAgICAgICAgICAgICAgICAgICAgICAgICAgICAgICAgICAgICAgICAgICAgICAgICAgICAgICAgICAKICAgICAgICAgICAgICAgICAgICAgICAgICAgICAgICAgICAgICAgICAgICAgICAgICAgICAgICAgICAgICAgICAgICAgICAgICAgICAgICAgICAgICAgICAgICAgICAgICAgIAogICAgICAgICAgICAgICAgICAgICAgICAgICAgICAgICAgICAgICAgICAgICAgICAgICAgICAgICAgICAgICAgICAgICAgICAgICAgICAgICAgICAgICAgICAgICAgICAgICAgCiAgICAgICAgICAgICAgICAgICAgICAgICAgICAgICAgICAgICAgICAgICAgICAgICAgICAgICAgICAgICAgICAgICAgICAgICAgICAgICAgICAgICAgICAgICAgICAgICAgICAKICAgICAgICAgICAgICAgICAgICAgICAgICAgICAgICAgICAgICAgICAgICAgICAgICAgICAgICAgICAgICAgICAgICAgICAgICAgICAgICAgICAgICAgICAgICAgICAgICAgIAogICAgICAgICAgICAgICAgICAgICAgICAgICAgICAgICAgICAgICAgICAgICAgICAgICAgICAgICAgICAgICAgICAgICAgICAgICAgICAgICAgICAgICAgICAgICAgICAgICAgCiAgICAgICAgICAgICAgICAgICAgICAgICAgICAgICAgICAgICAgICAgICAgICAgICAgICAgICAgICAgICAgICAgICAgICAgICAgICAgICAgICAgICAgICAgICAgICAgICAgICAKICAgICAgICAgICAgICAgICAgICAgICAgICAgICAgICAgICAgICAgICAgICAgICAgICAgICAgICAgICAgICAgICAgICAgICAgICAgICAgICAgICAgICAgICAgICAgICAgICAgIAogICAgICAgICAgICAgICAgICAgICAgICAgICAgICAgICAgICAgICAgICAgICAgICAgICAgICAgICAgICAgICAgICAgICAgICAgICAgICAgICAgICAgICAgICAgICAgICAgICAgCiAgICAgICAgICAgICAgICAgICAgICAgICAgICAgICAgICAgICAgICAgICAgICAgICAgICAgICAgICAgICAgICAgICAgICAgICAgICAgICAgICAgICAgICAgICAgICAgICAgICAKICAgICAgICAgICAgICAgICAgICAgICAgICAgICAgICAgICAgICAgICAgICAgICAgICAgICAgICAgICAgICAgICAgICAgICAgICAgICAgICAgICAgICAgICAgICAgICAgICAgIAogICAgICAgICAgICAgICAgICAgICAgICAgICAgICAgICAgICAgICAgICAgICAgICAgICAgICAgICAgICAgICAgICAgICAgICAgICAgICAgICAgICAgICAgICAgICAgICAgICAgCiAgICAgICAgICAgICAgICAgICAgICAgICAgICAgICAgICAgICAgICAgICAgICAgICAgICAgICAgICAgICAgICAgICAgICAgICAgICAgICAgICAgICAgICAgICAgICAgICAgICAKICAgICAgICAgICAgICAgICAgICAgICAgICAgIDw/eHBhY2tldCBlbmQ9J3cnPz7/2wBDAAcFBQYFBAcGBQYIBwcIChELCgkJChUPEAwRGBUaGRgVGBcbHichGx0lHRcYIi4iJSgpKywrGiAvMy8qMicqKyr/2wBDAQcICAoJChQLCxQqHBgcKioqKioqKioqKioqKioqKioqKioqKioqKioqKioqKioqKioqKioqKioqKioqKioqKir/wAARCABhAKgDASIAAhEBAxEB/8QAHwAAAQUBAQEBAQEAAAAAAAAAAAECAwQFBgcICQoL/8QAtRAAAgEDAwIEAwUFBAQAAAF9AQIDAAQRBRIhMUEGE1FhByJxFDKBkaEII0KxwRVS0fAkM2JyggkKFhcYGRolJicoKSo0NTY3ODk6Q0RFRkdISUpTVFVWV1hZWmNkZWZnaGlqc3R1dnd4eXqDhIWGh4iJipKTlJWWl5iZmqKjpKWmp6ipqrKztLW2t7i5usLDxMXGx8jJytLT1NXW19jZ2uHi4+Tl5ufo6erx8vP09fb3+Pn6/8QAHwEAAwEBAQEBAQEBAQAAAAAAAAECAwQFBgcICQoL/8QAtREAAgECBAQDBAcFBAQAAQJ3AAECAxEEBSExBhJBUQdhcRMiMoEIFEKRobHBCSMzUvAVYnLRChYkNOEl8RcYGRomJygpKjU2Nzg5OkNERUZHSElKU1RVVldYWVpjZGVmZ2hpanN0dXZ3eHl6goOEhYaHiImKkpOUlZaXmJmaoqOkpaanqKmqsrO0tba3uLm6wsPExcbHyMnK0tPU1dbX2Nna4uPk5ebn6Onq8vP09fb3+Pn6/9oADAMBAAIRAxEAPwD6RooooAKKKKACiiigAooooAKKKKACiiigAooooAKKKKACiiigAooooAKKKKAIvstv/wA8Iv8AvgUfZbf/AJ4Rf98CpaKAIvstv/zwi/74FH2W3/54Rf8AfAqWigCL7Lb/APPCL/vgUfZbf/nhF/3wKlooAi+y2/8Azwi/74FH2W3/AOeEX/fAqWigCL7Lb/8APCL/AL4FH2W3/wCeEX/fAqWigCL7Lb/88Iv++BR9lt/+eEX/AHwKlooAi+y2/wDzwi/74FH2W3/54Rf98CpaKAIvstv/AM8Iv++BR9lt/wDnhF/3wKlooAi+y2//ADwi/wC+BR9lt/8AnhF/3wKlooAi+y2//PCL/vgUfZbf/nhF/wB8CpaKAIvstv8A88Iv++BRSyMVkiAPDPg+42k/0ooAkooooAKKKKAOVu/F97Pq11YeF9CfWGsm2XU73S28Ub4zsDEEs3rgcetaPh3xFHr8Fwr2stje2cvk3dpMQWifGeo4YEcgjrWN8NDt0fVYZP8Aj5j1e6E477i+R+mKZ4v12y0/QfEk3h9ootXtxFHeTxwlWQvgKxfHzEKSRycUAdrRXm3iTwvpnhDw0uv6AZbfVLSSJjdee7Nd7nUMsmT827P+FTP4f0/xF8VNZj1eOSaBNPtSbfzWWNyS/LAEbsds+poA9DoryC+h+y/DfxXpEMsotLDV1t7UM5YxR+ZGQoJ5wCTitvVfDmn+F/Efhq/0VZoLq61Bba6lad3a5RkYnfknccjOaAPRKK8ja1v/ABZ4g1ye88NRa6lrfPawGXVjbi2VQMBUCnBP3t3U59q0J7fWho/hbw34knki+3XksV2UuCzyQorMkZkGCcjAJ6nFAHplZ2h63beINOa9s0lSNZpISJQAdyMVPQnjIrCt/BWiaVrP2exlitrG+t3juNGdt6XJGDvCs3BHfAOc1U+FWlWFl4cuLm0tIoZ5b24jeRFwWVJmCg+wHSgDuaKKKACivO/iZpXiyG1bWPB+r3qCJc3FgjZyP76Z7+q/l6E+GeleLJrVdY8YaveuJVzb2DtjA/vvjv6L+foAD0SiiigCKb/Wwf8AXQ/+gtRRN/rYP+uh/wDQWooAlooooAKKKKAOc1PwXZ32qS6jZ3+paRdzgC4k0648vz8cDcCCCR64z71b0/wrpOnaLcaXHbma3u9xujcOZHuGb7zOx5JNbFFAHK2vw+06C4tmudQ1S/trRw9tZXl1vhhYfdIXAJx23E4rZt9EtrbxFeayjym4vIY4ZFJGwKmcYGM5+Y960aKAOduPBWnXOn6rZyTXQj1S7F3MVdcq4KnC/LwPlHXPfmtHVNDttWm06W5eVW0+5W5i8sgBmAIw2QeOe2K0aKAOb1HwTZXmrTalZ6hqWk3NwALltOuBGJ8dCwIIz7jBqzdeEdLu9Ah0mUXAit2EkMwnbzo5Ac7xITndknn3rbooAwtG8KWukX738l5falfNH5Qub+bzHRM52rgAAZ9Bk0/Q/DFt4fu7yWwu7ww3UjS/ZJZQ0ULMcsUGMjJPqa2qKACiiigAooooAKKKKAIpv9bB/wBdD/6C1FLIpaSIgcK+T7DaR/WigBPtVv8A894v++xR9qt/+e8X/fYrK+wj0o+wj0oA1ftVv/z3i/77FH2q3/57xf8AfYrK+wj0o+wj0oA1ftVv/wA94v8AvsUfarf/AJ7xf99isr7CPSj7CPSgDV+1W/8Az3i/77FH2q3/AOe8X/fYrK+wj0o+wj0oA1ftVv8A894v++xR9qt/+e8X/fYrK+wj0o+wj0oA1ftVv/z3i/77FH2q3/57xf8AfYrK+wj0o+wj0oA1ftVv/wA94v8AvsUfarf/AJ7xf99isr7CPSj7CPSgDV+1W/8Az3i/77FH2q3/AOe8X/fYrK+wj0o+wj0oA1ftVv8A894v++xR9qt/+e8X/fYrK+wj0o+wj0oA1ftVv/z3i/77FH2q3/57xf8AfYrK+wj0o+wj0oA1ftVv/wA94v8AvsUVlfYR6UUAaOKMUUUAGKMUUUAGKMUUUAGKMUUUAGKMUUUAGKMUUUAGKMUUUAGKMUUUAGKMUUUAGKMUUUAGKKKKACiiigAooooAKKKKACiiigAooooAKKKKACiiigAooooAKKKKACiiigAooooA/9k=)\n",
        "\n"
      ]
    },
    {
      "cell_type": "code",
      "metadata": {
        "id": "IbfAPCioxcGC"
      },
      "source": [
        "\"__________\" # print(\"Hello World\")\n",
        "#Make sure you remember the speech marks and don't capatalise the p of print!"
      ],
      "execution_count": null,
      "outputs": []
    },
    {
      "cell_type": "code",
      "metadata": {
        "id": "HSYv8oZdy9R9"
      },
      "source": [
        "\"__________\" #name = \"My name\" \n",
        "\"__________\" #type print(name)"
      ],
      "execution_count": null,
      "outputs": []
    },
    {
      "cell_type": "code",
      "metadata": {
        "id": "yk_NyRgdzA6M"
      },
      "source": [
        "\"__________\" #print(5*10)"
      ],
      "execution_count": null,
      "outputs": []
    },
    {
      "cell_type": "markdown",
      "metadata": {
        "id": "5ZEA_Qg_t7qW"
      },
      "source": [
        "# Day 1"
      ]
    },
    {
      "cell_type": "markdown",
      "metadata": {
        "id": "gMtidp38wiWl"
      },
      "source": [
        "## Setup"
      ]
    },
    {
      "cell_type": "markdown",
      "metadata": {
        "id": "GZqKNx2amGNI"
      },
      "source": [
        "### Package Import"
      ]
    },
    {
      "cell_type": "code",
      "metadata": {
        "id": "93Wu_6CEtY8b"
      },
      "source": [
        "# Install external packages for Google Colab\n",
        "if 'google.colab' in str(get_ipython()):\n",
        "    !pip install rasterfairy-py3 spotipy umap-learn -q"
      ],
      "execution_count": null,
      "outputs": []
    },
    {
      "cell_type": "markdown",
      "metadata": {
        "id": "70d6buE1IXg-"
      },
      "source": [
        "###### **<font color='blue'>TO DO 1</font> :** import the `Image` module from the `PIL` package"
      ]
    },
    {
      "cell_type": "code",
      "metadata": {
        "id": "7jdu5_hKtpPU",
        "outputId": "13c0aa3d-81b0-43e9-ae9c-8fb1f700e370",
        "colab": {
          "base_uri": "https://localhost:8080/",
          "height": 35
        }
      },
      "source": [
        "# Import packages\n",
        "from getpass import getpass        # secure text entry\n",
        "from io import BytesIO             # reading binary data\n",
        "from IPython.display \\\n",
        "  import clear_output              # clearing cell output\n",
        "from sklearn.preprocessing \\\n",
        "  import StandardScaler            # feature standardisation\n",
        "# TODO 01 Import the Image module from the PIL package\n",
        "# (remember: exact capitalisation matters!)\n",
        "\"_____________\"                    # image export "
      ],
      "execution_count": null,
      "outputs": [
        {
          "output_type": "execute_result",
          "data": {
            "application/vnd.google.colaboratory.intrinsic+json": {
              "type": "string"
            },
            "text/plain": [
              "'_____________'"
            ]
          },
          "metadata": {
            "tags": []
          },
          "execution_count": 4
        }
      ]
    },
    {
      "cell_type": "markdown",
      "metadata": {
        "id": "b49zYSZSI6yp"
      },
      "source": [
        "###### **<font color='blue'>TO DO 2</font> :** import the spotify package"
      ]
    },
    {
      "cell_type": "code",
      "metadata": {
        "id": "KaGwistMINST"
      },
      "source": [
        "import numpy as np                 # mathematics\n",
        "import os                          # setting environment variables\n",
        "import pandas as pd                # storing audio features as dataframe\n",
        "import plotly.express as px        # basic interactive visualisation\n",
        "import plotly.graph_objects as go  # advanced plotting functionality\n",
        "import rasterfairy                 # rasterfying point clouds\n",
        "import requests                    # web requests\n",
        "#TODO 02: import the spotipy package\n",
        "\"______________\"                   # Python interface to Spotify API\n",
        "import umap                        # dimensionality reduction"
      ],
      "execution_count": null,
      "outputs": []
    },
    {
      "cell_type": "markdown",
      "metadata": {
        "id": "orSGe_Dr4FUC"
      },
      "source": [
        "### Parameters"
      ]
    },
    {
      "cell_type": "markdown",
      "metadata": {
        "id": "NTUrda5UJefA"
      },
      "source": [
        "###### **<font color='blue'>TO DO 3</font> :** assign your username to the variable 'USERNAME'\n"
      ]
    },
    {
      "cell_type": "code",
      "metadata": {
        "id": "GycV5BA_3K6o"
      },
      "source": [
        "# Parameters\n",
        "# NB: Use 'mkprtr' for playlists from AZ Code Club\n",
        "# TODO 03: supply a username\n",
        "USERNAME = '_________________________'  # user to extract public playlists from\n",
        "RESOLUTION = 2  # 0 (extreme); 1 (high); 2 (low)\n",
        "ORIENTATION = 'landscape'  # landscape; portrait\n",
        "MIN_RATIO = 0.5  # minimum ratio between shortest and longest dimension"
      ],
      "execution_count": null,
      "outputs": []
    },
    {
      "cell_type": "code",
      "metadata": {
        "id": "2b7cF-kJsCBy",
        "outputId": "8913e4ea-3fa3-4439-f635-7169bf642323",
        "colab": {
          "base_uri": "https://localhost:8080/",
          "height": 53
        }
      },
      "source": [
        "# CKPT: Use `print(USERNAME)` to check that the username has been set correctly\n",
        "\"_____________\""
      ],
      "execution_count": null,
      "outputs": [
        {
          "output_type": "stream",
          "text": [
            "\t111518349\n"
          ],
          "name": "stdout"
        },
        {
          "output_type": "execute_result",
          "data": {
            "application/vnd.google.colaboratory.intrinsic+json": {
              "type": "string"
            },
            "text/plain": [
              "'_____________'"
            ]
          },
          "metadata": {
            "tags": []
          },
          "execution_count": 9
        }
      ]
    },
    {
      "cell_type": "markdown",
      "metadata": {
        "id": "Q6AXIz03mNsP"
      },
      "source": [
        "### Helper Functions\n",
        "#### You don't need to look at this but feel free if you are interested. Remember to run it though! "
      ]
    },
    {
      "cell_type": "code",
      "metadata": {
        "id": "-AXICFltkE2D"
      },
      "source": [
        "# Define helper functions\n",
        "def depaginate(first_page):\n",
        "  \"\"\"\n",
        "  Flatten the paginated response from the Spotify API.\n",
        "  \n",
        "  The Spotify API returns responses over a certain size using pagination (like\n",
        "  how Google has multiple page of results). This function takes the first page\n",
        "  of a response and uses this to run through all other pages and return the\n",
        "  page items in a flattened format.\n",
        "  \"\"\"\n",
        "  page = first_page\n",
        "  while page:\n",
        "    for item in page['items']:\n",
        "      yield item\n",
        "    page = sp.next(page)\n",
        "\n",
        "def resolution_map(resolution):\n",
        "  \"\"\"Return the pixel value corresponding to different resolution levels.\"\"\"\n",
        "  return [600, 300, 64][resolution]\n",
        "\n",
        "def mel_to_harm(key):\n",
        "  \"\"\"Convert absolute keys to positions relative to the circle of fifths.\"\"\"\n",
        "  return (key * 7) % 12\n",
        "\n",
        "def create_hover_text(track_df, features=None):\n",
        "  \"\"\"\n",
        "  Create hover text for plots.\n",
        "  \n",
        "  Omit the second argument to leave out extra hover text for audio features.\n",
        "  \"\"\"\n",
        "  text = (\n",
        "      \"Name: \" + track_df['name'] + \"<br>\" +\n",
        "      \"Artist: \" + track_df['artist'] + \"<br>\" +\n",
        "      \"Album: \" + track_df['album'] + \"<br><extra>\"\n",
        "  )\n",
        "  if features:\n",
        "    for f in features:\n",
        "      text = text + f + \": \" + track_df[f].apply(str) + \"<br>\"\n",
        "  return text + \"</extra>\"\n",
        "\n",
        "def find_valid_sample_count(track_df, min_ratio):\n",
        "  \"\"\"\n",
        "  Find a sample count that can form a rectangle satisfying a minimum ratio.\n",
        "\n",
        "  For difficult numbers of observations (e.g. a prime), only long rectangles\n",
        "  can be formed in the final visualisation. We therefore keep decreasing the\n",
        "  number of points until we have form a rectangle that satisfies a minimum\n",
        "  ratio between side lengths.\n",
        "  \"\"\"\n",
        "  n = len(track_df)\n",
        "  found_solution = False\n",
        "  while not found_solution:\n",
        "    i, j = rasterfairy.getRectArrangements(n)[0]\n",
        "    if i / j >= MIN_RATIO:\n",
        "      found_solution = True\n",
        "    else:\n",
        "      n -= 1\n",
        "  return n"
      ],
      "execution_count": null,
      "outputs": []
    },
    {
      "cell_type": "markdown",
      "metadata": {
        "id": "Mo4LnOoKmCln"
      },
      "source": [
        "### API (Application Programming Interface) Connection\n",
        "#### Set-up a connection between Python and Spotify"
      ]
    },
    {
      "cell_type": "markdown",
      "metadata": {
        "id": "_SJUa43pJ6MP"
      },
      "source": [
        "###### **<font color='blue'>TO DO 4</font> :** add a line asking for the client secret and assign it to the `SPOTIPY_CLIENT_SECRET` environment variable (base client ID line bellow)\n",
        "If you don't have your client ID and client Secret use:\n",
        "\n",
        "Client ID - 460a1a32216c4e8f9bdf5c236975bf13\n",
        "\n",
        "Client Secret - 851c13e3aa544cfd85a0a06e43f8cd70"
      ]
    },
    {
      "cell_type": "code",
      "metadata": {
        "id": "lxWWilRpvNLS"
      },
      "source": [
        "# Authentication environment variables\n",
        "overwrite_existing = False  # set to True to overwrite existing values\n",
        "if overwrite_existing or 'SPOTIPY_CLIENT_ID' not in os.environ \\\n",
        "    or 'SPOTIPY_CLIENT_SECRET' not in os.environ:\n",
        "  # NB: the input passed to `getpass` is the question asked to the user\n",
        "  # `\\n` means create a newline before creating the answer box\n",
        "  os.environ['SPOTIPY_CLIENT_ID'] = getpass(\"What is your client ID?\\n\")\n",
        "  # TODO 04: ask for the client secret and assign it to the\n",
        "  # `SPOTIPY_CLIENT_SECRET` environment variable (base this on the line above)\n",
        "  \"____________________________________________________________________________\""
      ],
      "execution_count": null,
      "outputs": []
    },
    {
      "cell_type": "code",
      "metadata": {
        "id": "q85mdkVpxb-i"
      },
      "source": [
        "# Initialise client\n",
        "auth_manager = spotipy.SpotifyClientCredentials()\n",
        "sp = spotipy.Spotify(auth_manager=auth_manager)"
      ],
      "execution_count": null,
      "outputs": []
    },
    {
      "cell_type": "code",
      "metadata": {
        "id": "X2SBG_U1sCB_"
      },
      "source": [
        "# CKPT: Run `sp.categories(country='GB', limit=3)` to list the first three\n",
        "# categories in Great Britain. NB: This returns a dictionary with more\n",
        "# dictionaries and lists nested inside\n",
        "\"__________________________________\""
      ],
      "execution_count": null,
      "outputs": []
    },
    {
      "cell_type": "markdown",
      "metadata": {
        "id": "0-l5Dn6z1ot7"
      },
      "source": [
        "## Data Scraping"
      ]
    },
    {
      "cell_type": "markdown",
      "metadata": {
        "id": "mh9OfbHa3DgN"
      },
      "source": [
        "### Collect Playlists"
      ]
    },
    {
      "cell_type": "code",
      "metadata": {
        "id": "5dUuH50K3qd3"
      },
      "source": [
        "# Create list to store key playlist information\n",
        "playlist_info = []"
      ],
      "execution_count": null,
      "outputs": []
    },
    {
      "cell_type": "markdown",
      "metadata": {
        "id": "_GQs6Ym2Kdqk"
      },
      "source": [
        "###### **<font color='blue'>TO DO 5</font> :** add the `id` field to the playlist information below"
      ]
    },
    {
      "cell_type": "code",
      "metadata": {
        "id": "l2OOW10cKemJ"
      },
      "source": [
        "# Loop through all playlists\n",
        "for playlist in depaginate(sp.user_playlists(USERNAME)):\n",
        "  # Add playlist information to list\n",
        "  playlist_info.append({\n",
        "      'name': playlist['name'],\n",
        "      'size': playlist['tracks']['total'],\n",
        "      # TODO 05: add the `id` field to the playlist information\n",
        "      # This will look very similar to 'name' above\n",
        "      \"___________________\",\n",
        "  })"
      ],
      "execution_count": null,
      "outputs": []
    },
    {
      "cell_type": "code",
      "metadata": {
        "id": "LrmA6Y6_sCCI"
      },
      "source": [
        "# CKPT: What does `playlist_info` look like? Use `print()` to find out\n",
        "\"__________________\""
      ],
      "execution_count": null,
      "outputs": []
    },
    {
      "cell_type": "code",
      "metadata": {
        "id": "6i8lDlzX6aIc"
      },
      "source": [
        "# Display playlist choices\n",
        "max_digits = len(str(len(playlist_info)))\n",
        "for i, info in enumerate(playlist_info):\n",
        "  print(f\"({str(i).zfill(max_digits)}) {info['name']} [{info['size']} tracks]\")"
      ],
      "execution_count": null,
      "outputs": []
    },
    {
      "cell_type": "markdown",
      "metadata": {
        "id": "q_Ozk9Wrz5W9"
      },
      "source": [
        "### Playlist Selection"
      ]
    },
    {
      "cell_type": "code",
      "metadata": {
        "id": "-tnsEMacyOS1"
      },
      "source": [
        "# Get user to select a playlist\n",
        "valid = False  # placeholder to start off loop\n",
        "\n",
        "while not valid:\n",
        "  # Ask user for input\n",
        "  choice_idx = input(\"Select a playlist index from the list above:\\n\")\n",
        "  # Check if the input was valid\n",
        "  valid = choice_idx.isnumeric() and 0 < int(choice_idx) <= len(playlist_info)\n",
        "  if not valid:\n",
        "    clear_output(wait=True)\n",
        "    print(f\"Selection must be an integer between 1 and {len(playlist_info)}\")\n",
        "\n",
        "# Python returns input as text so convert to an integer\n",
        "choice_idx = int(choice_idx)\n",
        "print(f\"\\nYou selected '{playlist_info[choice_idx-1]['name']}'\")"
      ],
      "execution_count": null,
      "outputs": []
    },
    {
      "cell_type": "markdown",
      "metadata": {
        "id": "LA1Nd0UM_B3Z"
      },
      "source": [
        "### Collect Tracks Details"
      ]
    },
    {
      "cell_type": "markdown",
      "metadata": {
        "id": "EislL8JpK1ZG"
      },
      "source": [
        "###### **<font color='blue'>TO DO 6</font> :** create an empty list called `track_info` (see Collect Playlists)"
      ]
    },
    {
      "cell_type": "code",
      "metadata": {
        "id": "UvyeUc0o_NxH"
      },
      "source": [
        "# Get the ID of the choosen playlist\n",
        "choice_id = playlist_info[choice_idx-1]['id']\n",
        "# Create list to store key playlist information\n",
        "# TODO 06: create an empty list called `track_info` (see Collect Playlists)\n",
        "\"_____________\"\n",
        "\n",
        "# Loop through all playlist items\n",
        "for item in depaginate(sp.playlist_items(choice_id)):\n",
        "  # Extract track information, ignoring item metadata (e.g. date added)\n",
        "  track = item['track']\n",
        "  track_info.append({\n",
        "      'name': track['name'],\n",
        "      'artist': track['artists'][0]['name'],\n",
        "      'album': track['album']['name'],\n",
        "      # NB: some tracks are missing artworks for all/some resolutions. If this\n",
        "      # is an issue, the simplest solution is to remove them from the playlist\n",
        "      'art_url': track['album']['images'][RESOLUTION]['url'],\n",
        "      'id': track['id'],\n",
        "  })"
      ],
      "execution_count": null,
      "outputs": []
    },
    {
      "cell_type": "code",
      "metadata": {
        "id": "7CXbSjCxsCCW"
      },
      "source": [
        "# CKPT: `track_info` might be quite a big object. Print out the second entry\n",
        "# using `print(track_info[1])` (remember that we start from zero!)\n",
        "\"__________________\""
      ],
      "execution_count": null,
      "outputs": []
    },
    {
      "cell_type": "markdown",
      "metadata": {
        "id": "h0wTfrmj6KKc"
      },
      "source": [
        "# Day 2"
      ]
    },
    {
      "cell_type": "markdown",
      "metadata": {
        "id": "Gg_Rxq8GLWpY"
      },
      "source": [
        "### Collect Audio Features"
      ]
    },
    {
      "cell_type": "markdown",
      "metadata": {
        "id": "lv-s2cdJLgQl"
      },
      "source": [
        "###### **<font color='blue'>TO DO 7</font> :** add valence and tempo to the end of the list of included features"
      ]
    },
    {
      "cell_type": "code",
      "metadata": {
        "id": "FdWheYnvLVzI"
      },
      "source": [
        "# List features to collect. See: https://spoti.fi/2Rhrtye\n",
        "# TODO 07: add valence and tempo to the end of the list of included features\n",
        "included = (\n",
        "    'duration_ms', 'key', 'mode', 'time_signature',\n",
        "    'acousticness', 'danceability', 'energy', 'instrumentalness', 'liveness', \n",
        "    'loudness', 'speechiness', '_______', '_____', \n",
        ")\n"
      ],
      "execution_count": null,
      "outputs": []
    },
    {
      "cell_type": "code",
      "metadata": {
        "id": "wtqg3cUcLy-e"
      },
      "source": [
        "# Audio feature requests have to be performed in batches of at most 100 IDs\n",
        "for offset in range(0, len(track_info), 100):\n",
        "  # Collect all features\n",
        "  features = sp.audio_features(t['id'] for t in track_info[offset:offset+100])\n",
        "  # Filter to only include the features listed above\n",
        "  features = [{k: v for k, v in t.items() if k in included} for t in features]\n",
        "  # Add features to track info\n",
        "  for i in range(min(100, len(track_info) - offset)):\n",
        "    track_info[i + offset].update(features[i])"
      ],
      "execution_count": null,
      "outputs": []
    },
    {
      "cell_type": "code",
      "metadata": {
        "id": "6qJzajG9sCCl"
      },
      "source": [
        "# CKPT: Check the second element of `track_info` again to see the additions\n",
        "\"__________________\""
      ],
      "execution_count": null,
      "outputs": []
    },
    {
      "cell_type": "code",
      "metadata": {
        "id": "Z_4EwaQ_yyIy"
      },
      "source": [
        "# Convert to dataframe\n",
        "track_df = pd.DataFrame(track_info)"
      ],
      "execution_count": null,
      "outputs": []
    },
    {
      "cell_type": "code",
      "metadata": {
        "id": "tsRND9GYsCCr"
      },
      "source": [
        "# CKPT: Use `track_df.head()` to see the first few rows of the dataframe\n",
        "# Can you remember how to see the last few rows?\n",
        "\"_____________\""
      ],
      "execution_count": null,
      "outputs": []
    },
    {
      "cell_type": "markdown",
      "metadata": {
        "id": "mgs_ziIe1uZh"
      },
      "source": [
        "## Pre-processing"
      ]
    },
    {
      "cell_type": "markdown",
      "metadata": {
        "id": "rmXcgRt2xwEV"
      },
      "source": [
        "### Sampling"
      ]
    },
    {
      "cell_type": "markdown",
      "metadata": {
        "id": "uIcvqpZbL5uO"
      },
      "source": [
        "###### **<font color='blue'>TO DO 8</font> :** find n, the maximum valid sample count by running the `find_valid_sample_count(...)` function with the two arguments `track_df`and `MIN_RATIO` (separate the arguments with a comma)"
      ]
    },
    {
      "cell_type": "code",
      "metadata": {
        "id": "FIj5Dx0oL8Fn"
      },
      "source": [
        "# Find a sample count that satisfies the minimum ratio\n",
        "# TODO 08: find n, the maximum valid sample count by running the\n",
        "# `find_valid_sample_count(...)` function with the two arguments `track_df`\n",
        "# and `MIN_RATIO` (separate the arguments with a comma)\n",
        "n = \"__________________________________________\"\n",
        "\n",
        "# Take random sample of chosen size\n",
        "print(f\"Randomly removing {len(track_df) - n} tracks to leave {n} remaining\")\n",
        "sampled_track_df = track_df.sample(n, random_state=1729).reset_index(drop=True)"
      ],
      "execution_count": null,
      "outputs": []
    },
    {
      "cell_type": "code",
      "metadata": {
        "id": "tPGGd5zEsCC1"
      },
      "source": [
        "# CKPT: Print the dimensions of `track_df` using `print(track_df.shape)`\n",
        "# Do the same for `sampled_track_df` for comparison\n",
        "\"___________________\"\n",
        "\"___________________________\""
      ],
      "execution_count": null,
      "outputs": []
    },
    {
      "cell_type": "markdown",
      "metadata": {
        "id": "V44Yb1MMMTWR"
      },
      "source": [
        "###### **<font color='blue'>TO DO 9</font> :** drop the column containing the url for the cover art (see Collect Track Details to find its name)"
      ]
    },
    {
      "cell_type": "code",
      "metadata": {
        "id": "yJDvS1r4Dsw_"
      },
      "source": [
        "# Extract feature columns into own dataframe\n",
        "# TODO 09: drop the column containing the url for the cover art\n",
        "# (see Collect Track Details to find its name)\n",
        "features_df = sampled_track_df.drop(\n",
        "    ['name', 'artist', 'album', '_______', 'id'], axis=1\n",
        ")"
      ],
      "execution_count": null,
      "outputs": []
    },
    {
      "cell_type": "code",
      "metadata": {
        "id": "YsZpuho9sCC_"
      },
      "source": [
        "# CKPT: Whereas `.shape` gives the dimensions, `.columns` gives us column\n",
        "# names. Use this to print the columns of `features_df` and `sampled_track_df`\n",
        "\"_____________________________\"\n",
        "\"_______________________\""
      ],
      "execution_count": null,
      "outputs": []
    },
    {
      "cell_type": "markdown",
      "metadata": {
        "id": "btIWdTiCg0RC"
      },
      "source": [
        "### Feature Engineering\n",
        "#### This code helps incorparate which key each song is in as a feature that determines where it goes on your visual"
      ]
    },
    {
      "cell_type": "code",
      "metadata": {
        "id": "1U2qapWYNZaZ"
      },
      "source": [
        "# Transform key from polar coordinates using melodic distance\n",
        "features_df['key_melodic_x'] = np.cos(features_df['key'] / 6 * np.pi)\n",
        "features_df['key_melodic_y'] = np.sin(features_df['key'] / 6 * np.pi)\n",
        "\n",
        "# Transform key from polar coordinates using harmonic distance\n",
        "features_df['key_harmonic'] = features_df['key'].apply(mel_to_harm)\n",
        "features_df['key_harmonic_x'] = np.cos(features_df['key_harmonic'] / 6 * np.pi)\n",
        "features_df['key_harmonic_y'] = np.sin(features_df['key_harmonic'] / 6 * np.pi)\n",
        "\n",
        "# Remove redundant columns\n",
        "features_df.drop(['key', 'key_harmonic'], axis=1, inplace=True)\n",
        "\n",
        "# Handle missing keys\n",
        "features_df.iloc[:,-4:].fillna(0, inplace=True)"
      ],
      "execution_count": null,
      "outputs": []
    },
    {
      "cell_type": "markdown",
      "metadata": {
        "id": "HrkgQb0117qD"
      },
      "source": [
        "### Standardisation"
      ]
    },
    {
      "cell_type": "markdown",
      "metadata": {
        "id": "wEJR-loxOQ9I"
      },
      "source": [
        "###### **<font color='blue'>TO DO 10</font> :**  use `features_df` as an input to the `.fit_transform` method of the StandardScaler to standardise the features"
      ]
    },
    {
      "cell_type": "code",
      "metadata": {
        "id": "LqZiNln8OSg9"
      },
      "source": [
        "# TODO 10: use `features_df` as an input to the `.fit_transform` method of the\n",
        "# StandardScaler to standardise the features\n",
        "scaled_features = StandardScaler().fit_transform(\"_________\")\n",
        "\n",
        "# Two features represent the key so weight these a factor of one fourth\n",
        "scaled_features[:,-4:] /= 2"
      ],
      "execution_count": null,
      "outputs": []
    },
    {
      "cell_type": "markdown",
      "metadata": {
        "id": "C5OtgHsag9NL"
      },
      "source": [
        "## Dimensionality Reduction\n",
        "#### We currently have data in 16 dimensions! Lets reduce that to something more managable!"
      ]
    },
    {
      "cell_type": "markdown",
      "metadata": {
        "id": "kVTZRqHJchfW"
      },
      "source": [
        "### Embedding"
      ]
    },
    {
      "cell_type": "markdown",
      "metadata": {
        "id": "7ye2dHC7O8qc"
      },
      "source": [
        "###### **<font color='blue'>TO DO 11</font> :**  Set initial hyperparameter values to be 10 for `n_neighbors` and 0.5 for `min_dist`"
      ]
    },
    {
      "cell_type": "code",
      "metadata": {
        "id": "fNppZx3OOp5G"
      },
      "source": [
        "# Embedded the audio features into two dimensions\n",
        "embedding = umap.UMAP(\n",
        "    n_components=2,\n",
        "    # Embedding hyperparameters used to balance local and global structure\n",
        "    # See:\n",
        "    #   https://pair-code.github.io/understanding-umap/\n",
        "    #   https://umap-learn.readthedocs.io/en/latest/parameters.html\n",
        "    # TODO 11: Set initial hyperparameter values to be 10 for `n_neighbors` and\n",
        "    # 0.5 for `min_dist`\n",
        "    \"____________\",\n",
        "    \"__________\",\n",
        "    metric='euclidean',\n",
        "    # Random seed used for reproducibility\n",
        "    random_state=1729).fit_transform(scaled_features)"
      ],
      "execution_count": null,
      "outputs": []
    },
    {
      "cell_type": "markdown",
      "metadata": {
        "id": "Y0dZPZcdPzxr"
      },
      "source": [
        "###### **<font color='blue'>TO DO 12</font> :**  create a y variable alike the x variable below using the column with index 1"
      ]
    },
    {
      "cell_type": "code",
      "metadata": {
        "id": "cg4-OjyXOy1m"
      },
      "source": [
        "# View embedding\n",
        "x = embedding[:, 0]\n",
        "# TODO 12: use the column with index 1 for the y variable\n",
        "\"_________________\"\n",
        "\n",
        "fig = go.Figure()\n",
        "\n",
        "fig.add_trace(go.Scatter(\n",
        "    x=x, y=y,\n",
        "    hovertemplate = '%{text}',\n",
        "    # Add `included` as a second argument to show audio features on hover\n",
        "    text=create_hover_text(sampled_track_df)\n",
        "))\n",
        "\n",
        "fig.update_traces(mode='markers')\n",
        "\n",
        "fig.show()"
      ],
      "execution_count": null,
      "outputs": []
    },
    {
      "cell_type": "markdown",
      "metadata": {
        "id": "dssDxwFF7eG7"
      },
      "source": [
        "### Rasterfication"
      ]
    },
    {
      "cell_type": "code",
      "metadata": {
        "id": "9YXnCpdsv0-Z"
      },
      "source": [
        "# Rasterfy embedding\n",
        "grid, dims = rasterfairy.transformPointCloud2D(\n",
        "    embedding[:, :], proportionThreshold=MIN_RATIO\n",
        ")\n",
        "\n",
        "# Fix grid type\n",
        "grid = grid.astype(int)\n",
        "\n",
        "# Fix orientation (portrait by default)\n",
        "if ORIENTATION == 'portrait':\n",
        "   pass\n",
        "elif ORIENTATION == 'landscape':\n",
        "  grid = grid[:, ::-1]\n",
        "  dims = dims[::-1]\n",
        "else:\n",
        "  raise ValueError(\"invalid orientation\")"
      ],
      "execution_count": null,
      "outputs": []
    },
    {
      "cell_type": "markdown",
      "metadata": {
        "id": "5OZty8TWQ3qq"
      },
      "source": [
        "###### **<font color='blue'>TO DO 13&14</font> :** plot markers rather than lines (see Embedding - TODO 12)"
      ]
    },
    {
      "cell_type": "code",
      "metadata": {
        "id": "7NyMwamGwm89"
      },
      "source": [
        "# View rasterfied embedding\n",
        "x = grid[:, 0]\n",
        "y = grid[:, 1]\n",
        "\n",
        "fig = go.Figure()\n",
        "\n",
        "fig.add_trace(go.Scatter(\n",
        "    x=x, y=y,\n",
        "    hovertemplate = '%{text}',\n",
        "    #Add 'included' as a second argument to show audio features on hover\n",
        "    text=create_hover_text(sampled_track_df)\n",
        "))\n",
        "\n",
        "# TODO 13: plot markers rather than lines (again, see above)\n",
        "\"_______________________________\"\n",
        "\n",
        "# TODO 14: show the plot\n",
        "\"_______\""
      ],
      "execution_count": null,
      "outputs": []
    },
    {
      "cell_type": "markdown",
      "metadata": {
        "id": "INda04TR7qeq"
      },
      "source": [
        "## Visualisation"
      ]
    },
    {
      "cell_type": "markdown",
      "metadata": {
        "id": "cUnJFqmi3j_Z"
      },
      "source": [
        "### Create Image"
      ]
    },
    {
      "cell_type": "markdown",
      "metadata": {
        "id": "LUmh5XN9RPIh"
      },
      "source": [
        "###### **<font color='blue'>TO DO 15</font> :** create a variable `height` using the 2nd element of `dims`"
      ]
    },
    {
      "cell_type": "code",
      "metadata": {
        "id": "YzKIQmAqRs0C"
      },
      "source": [
        "# Covert resolution level to number of pixels\n",
        "px = resolution_map(RESOLUTION)\n",
        "width = px * dims[0]\n",
        "# TODO 15: create a variable `height` using the 2nd element of `dims`\n",
        "\"___________________\"\n",
        "\n",
        "# Create empty grid to store cover art\n",
        "art_grid = np.empty((height, width, 3))\n",
        "\n",
        "for i, row in sampled_track_df.iterrows():\n",
        "  res = requests.get(row['art_url'])\n",
        "  img = Image.open(BytesIO(res.content))\n",
        "  img = img.resize((px, px), Image.ANTIALIAS).convert('RGB')\n",
        "  art_grid[px * grid[i, 1]:px * (grid[i, 1] + 1),\n",
        "           px * grid[i, 0]:px * (grid[i, 0] + 1)] = np.array(img)"
      ],
      "execution_count": null,
      "outputs": []
    },
    {
      "cell_type": "code",
      "metadata": {
        "id": "uNlEFTy_RQ9S"
      },
      "source": [
        "# Create empty grid to store cover art\n",
        "art_grid = np.empty((height, width, 3))\n",
        "\n",
        "for i, row in sampled_track_df.iterrows():\n",
        "  res = requests.get(row['art_url'])\n",
        "  img = Image.open(BytesIO(res.content))\n",
        "  img = img.resize((px, px), Image.ANTIALIAS).convert('RGB')\n",
        "  art_grid[px * grid[i, 1]:px * (grid[i, 1] + 1),\n",
        "           px * grid[i, 0]:px * (grid[i, 0] + 1)] = np.array(img)"
      ],
      "execution_count": null,
      "outputs": []
    },
    {
      "cell_type": "markdown",
      "metadata": {
        "id": "tFIJ8znk4SOs"
      },
      "source": [
        "### Interactive Visualisation"
      ]
    },
    {
      "cell_type": "markdown",
      "metadata": {
        "id": "3mMNg61ZR1DB"
      },
      "source": [
        "###### **<font color='blue'>TO DO 16</font> :** further below set the y axis visibility and range (using `height`) alike what was done with x"
      ]
    },
    {
      "cell_type": "code",
      "metadata": {
        "id": "CF9WUj-VUgK_"
      },
      "source": [
        "fig = go.Figure()\n",
        "\n",
        "# Add invisible markers in the corners to help with autoscaling\n",
        "fig.add_trace(go.Scatter(\n",
        "    x=[0, width], y=[0, height],\n",
        "    mode='markers', marker_opacity=0\n",
        "))\n",
        "\n",
        "# Add background image\n",
        "fig.add_layout_image({\n",
        "        'x': 0, 'sizex': width, 'xref': 'x',\n",
        "        'y': height, 'sizey': height, 'yref': 'y',\n",
        "        'opacity': 1.0, 'layer': 'below', 'sizing': 'stretch',\n",
        "        # Images are plotted downwards so reverse first axis\n",
        "        'source': Image.fromarray(art_grid.astype(np.uint8))\n",
        "})\n",
        "\n",
        "# Add labels through an invisible heatmap\n",
        "x = [px // 2 + px * i for i in range(dims[0])]\n",
        "y = [px // 2 + px * j for j in range(dims[1])]\n",
        "# Add `included` as a second argument to show audio features on hover\n",
        "hover_text = create_hover_text(sampled_track_df)\n",
        "labels = np.empty(dims[::-1], dtype='object')\n",
        "for i in range(len(sampled_track_df)):\n",
        "    labels[dims[1] - 1 - grid[i, 1], grid[i, 0]] = hover_text[i]\n",
        "z = np.random.uniform(size=dims[::-1])  # random values for invisible heatmap\n",
        "\n",
        "fig.add_trace(go.Heatmap(\n",
        "    x=x, y=y, z=z, hovertemplate = '%{text}', text=labels,\n",
        "    opacity=0, showscale=False\n",
        "))\n",
        "\n",
        "fig.update_xaxes(\n",
        "    visible=False,\n",
        "    range=[0, width]\n",
        ")\n",
        "fig.update_yaxes(\n",
        "    # TODO 16: set axis visibility to false and range (using `height`)\n",
        "    # as was done with the x-axis above\n",
        "    \"___________\",\n",
        "    \"_______________\",\n",
        "    # Fix aspect ratio\n",
        "    scaleanchor='x'\n",
        ")\n",
        "\n",
        "fig.update_layout(\n",
        "    width=width,\n",
        "    height=height,\n",
        "    margin={\"l\": 0, \"r\": 0, \"t\": 0, \"b\": 0},\n",
        "    plot_bgcolor='black'\n",
        ")\n",
        "\n",
        "# Disable the autosize on double click because it adds unwanted margins\n",
        "fig.show(config={'doubleClick': 'reset'})"
      ],
      "execution_count": null,
      "outputs": []
    },
    {
      "cell_type": "markdown",
      "metadata": {
        "id": "jGT8Z7QD4Vj9"
      },
      "source": [
        "### Image Export"
      ]
    },
    {
      "cell_type": "code",
      "metadata": {
        "id": "OKYlX95MRUiC"
      },
      "source": [
        "# Save image to files - download from the sidebar\n",
        "Image.fromarray(art_grid.astype(np.uint8)).save('wall_of_music.png')"
      ],
      "execution_count": null,
      "outputs": []
    }
  ]
}